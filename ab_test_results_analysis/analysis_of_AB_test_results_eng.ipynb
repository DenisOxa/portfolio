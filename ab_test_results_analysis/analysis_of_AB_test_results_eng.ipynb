{
 "cells": [
  {
   "cell_type": "markdown",
   "metadata": {},
   "source": [
    "## Project discription"
   ]
  },
  {
   "cell_type": "markdown",
   "metadata": {},
   "source": [
    "We should analyze the data of the online store based on the prepared list of hypotheses to increase revenue.\n",
    "\n",
    "**The goal** is to prioritize hypotheses, run an A/B test, and analyze the results."
   ]
  },
  {
   "cell_type": "markdown",
   "metadata": {},
   "source": [
    "### Data clarification\n",
    "\n",
    "*File /datasets/hypothesis.csv.*\n",
    "- **Hypothesis** — brief description of the hypothesis;\n",
    "- **Reach** — user coverage on a 10-point scale;\n",
    "- **Impact** — impact on users on a 10-point scale;\n",
    "- **Confidence** — confidence in the hypothesis on a 10-point scale;\n",
    "- **Efforts** — resource costs for hypothesis testing on a 10-point scale. The larger the Efforts value, the more expensive it is to test the hypothesis.\n",
    "\n",
    "\n",
    "*File /datasets/orders.csv.*\n",
    "- **transactionId** — order ID;\n",
    "- **visitorId** — ID of the user who made the order;\n",
    "- **date** — the date the order was placed;\n",
    "- **revenue** — order revenue;\n",
    "- **group** — the A/B test group the order is in.\n",
    "\n",
    "*File /datasets/visitors.csv.*\n",
    "- **date** — date;\n",
    "- **group** — A/B-test group;\n",
    "- **visitors** — number of users on the specified date in the specified A/B test group"
   ]
  },
  {
   "cell_type": "markdown",
   "metadata": {},
   "source": [
    "### Plan\n",
    "1. [Selection of priority hypotheses by the ICE method and its submethod RICE](#start)\n",
    "2. [Analysis of A/B test results:](#AB-test)\n",
    "    - Analysis of cumulative metrics (revenue, average check and conversion)\n",
    "    - Outlier analysis\n",
    "    \n",
    "3. [Conclusion](#conclusion)"
   ]
  },
  {
   "cell_type": "markdown",
   "metadata": {},
   "source": [
    "## Prioritization of hypotheses <a id='start'></a>"
   ]
  },
  {
   "cell_type": "code",
   "execution_count": 117,
   "metadata": {},
   "outputs": [],
   "source": [
    "import pandas as pd\n",
    "import datetime as dt\n",
    "import numpy as np\n",
    "import matplotlib.pyplot as plt\n",
    "import scipy.stats as stats"
   ]
  },
  {
   "cell_type": "code",
   "execution_count": 118,
   "metadata": {},
   "outputs": [
    {
     "data": {
      "text/html": [
       "<div>\n",
       "<style scoped>\n",
       "    .dataframe tbody tr th:only-of-type {\n",
       "        vertical-align: middle;\n",
       "    }\n",
       "\n",
       "    .dataframe tbody tr th {\n",
       "        vertical-align: top;\n",
       "    }\n",
       "\n",
       "    .dataframe thead th {\n",
       "        text-align: right;\n",
       "    }\n",
       "</style>\n",
       "<table border=\"1\" class=\"dataframe\">\n",
       "  <thead>\n",
       "    <tr style=\"text-align: right;\">\n",
       "      <th></th>\n",
       "      <th>Hypothesis</th>\n",
       "      <th>Reach</th>\n",
       "      <th>Impact</th>\n",
       "      <th>Confidence</th>\n",
       "      <th>Efforts</th>\n",
       "    </tr>\n",
       "  </thead>\n",
       "  <tbody>\n",
       "    <tr>\n",
       "      <th>0</th>\n",
       "      <td>Добавить два новых канала привлечения трафика, что позволит привлекать на 30% больше пользователей</td>\n",
       "      <td>3</td>\n",
       "      <td>10</td>\n",
       "      <td>8</td>\n",
       "      <td>6</td>\n",
       "    </tr>\n",
       "    <tr>\n",
       "      <th>1</th>\n",
       "      <td>Запустить собственную службу доставки, что сократит срок доставки заказов</td>\n",
       "      <td>2</td>\n",
       "      <td>5</td>\n",
       "      <td>4</td>\n",
       "      <td>10</td>\n",
       "    </tr>\n",
       "    <tr>\n",
       "      <th>2</th>\n",
       "      <td>Добавить блоки рекомендаций товаров на сайт интернет магазина, чтобы повысить конверсию и средний чек заказа</td>\n",
       "      <td>8</td>\n",
       "      <td>3</td>\n",
       "      <td>7</td>\n",
       "      <td>3</td>\n",
       "    </tr>\n",
       "    <tr>\n",
       "      <th>3</th>\n",
       "      <td>Изменить структура категорий, что увеличит конверсию, т.к. пользователи быстрее найдут нужный товар</td>\n",
       "      <td>8</td>\n",
       "      <td>3</td>\n",
       "      <td>3</td>\n",
       "      <td>8</td>\n",
       "    </tr>\n",
       "    <tr>\n",
       "      <th>4</th>\n",
       "      <td>Изменить цвет фона главной страницы, чтобы увеличить вовлеченность пользователей</td>\n",
       "      <td>3</td>\n",
       "      <td>1</td>\n",
       "      <td>1</td>\n",
       "      <td>1</td>\n",
       "    </tr>\n",
       "    <tr>\n",
       "      <th>5</th>\n",
       "      <td>Добавить страницу отзывов клиентов о магазине, что позволит увеличить количество заказов</td>\n",
       "      <td>3</td>\n",
       "      <td>2</td>\n",
       "      <td>2</td>\n",
       "      <td>3</td>\n",
       "    </tr>\n",
       "    <tr>\n",
       "      <th>6</th>\n",
       "      <td>Показать на главной странице баннеры с актуальными акциями и распродажами, чтобы увеличить конверсию</td>\n",
       "      <td>5</td>\n",
       "      <td>3</td>\n",
       "      <td>8</td>\n",
       "      <td>3</td>\n",
       "    </tr>\n",
       "    <tr>\n",
       "      <th>7</th>\n",
       "      <td>Добавить форму подписки на все основные страницы, чтобы собрать базу клиентов для email-рассылок</td>\n",
       "      <td>10</td>\n",
       "      <td>7</td>\n",
       "      <td>8</td>\n",
       "      <td>5</td>\n",
       "    </tr>\n",
       "    <tr>\n",
       "      <th>8</th>\n",
       "      <td>Запустить акцию, дающую скидку на товар в день рождения</td>\n",
       "      <td>1</td>\n",
       "      <td>9</td>\n",
       "      <td>9</td>\n",
       "      <td>5</td>\n",
       "    </tr>\n",
       "  </tbody>\n",
       "</table>\n",
       "</div>"
      ],
      "text/plain": [
       "                                                                                                     Hypothesis  \\\n",
       "0            Добавить два новых канала привлечения трафика, что позволит привлекать на 30% больше пользователей   \n",
       "1                                     Запустить собственную службу доставки, что сократит срок доставки заказов   \n",
       "2  Добавить блоки рекомендаций товаров на сайт интернет магазина, чтобы повысить конверсию и средний чек заказа   \n",
       "3           Изменить структура категорий, что увеличит конверсию, т.к. пользователи быстрее найдут нужный товар   \n",
       "4                              Изменить цвет фона главной страницы, чтобы увеличить вовлеченность пользователей   \n",
       "5                      Добавить страницу отзывов клиентов о магазине, что позволит увеличить количество заказов   \n",
       "6          Показать на главной странице баннеры с актуальными акциями и распродажами, чтобы увеличить конверсию   \n",
       "7              Добавить форму подписки на все основные страницы, чтобы собрать базу клиентов для email-рассылок   \n",
       "8                                                       Запустить акцию, дающую скидку на товар в день рождения   \n",
       "\n",
       "   Reach  Impact  Confidence  Efforts  \n",
       "0      3      10           8        6  \n",
       "1      2       5           4       10  \n",
       "2      8       3           7        3  \n",
       "3      8       3           3        8  \n",
       "4      3       1           1        1  \n",
       "5      3       2           2        3  \n",
       "6      5       3           8        3  \n",
       "7     10       7           8        5  \n",
       "8      1       9           9        5  "
      ]
     },
     "execution_count": 118,
     "metadata": {},
     "output_type": "execute_result"
    }
   ],
   "source": [
    "data = pd.read_csv('C://Users//chame//Downloads//hypothesis.csv')\n",
    "pd.options.display.max_colwidth = 110\n",
    "data"
   ]
  },
  {
   "cell_type": "code",
   "execution_count": 119,
   "metadata": {},
   "outputs": [],
   "source": [
    "#0 - Add two new channels to attract traffic, which will attract 30% more users\n",
    "#1 - Launch your own delivery service, which will reduce the delivery time of orders\n",
    "#2 - Add blocks of product recommendations to the website of the online store to increase conversion and average check of the order\n",
    "#3 - Change the structure of categories, which will increase the conversion, because users will find the right product faster\n",
    "#4 - Change the background color of the main page to increase user engagement\n",
    "#5 - Add a customer reviews page about the store, which will increase the number of orders\n",
    "#6 - Display banners with current promotions and sales on the main page to increase conversion\n",
    "#7 - Add a subscription form to all main pages to build a customer base for email newsletters\n",
    "#8 - Launch a promotion that gives a discount on goods on your birthday"
   ]
  },
  {
   "cell_type": "markdown",
   "metadata": {},
   "source": [
    "Let's bring the names of the columns to lower case, so that it is more convenient to work with the table"
   ]
  },
  {
   "cell_type": "code",
   "execution_count": 120,
   "metadata": {},
   "outputs": [],
   "source": [
    "data.columns = data.columns.str.lower()"
   ]
  },
  {
   "cell_type": "markdown",
   "metadata": {},
   "source": [
    "Let's apply the ICE method and its modification RICE for prioritization."
   ]
  },
  {
   "cell_type": "markdown",
   "metadata": {},
   "source": [
    "<br>\n",
    "\n",
    "$$ICE = \\frac{Impact * Confidence}{Efforts}$$\n",
    "\n",
    "$$RICE = \\frac{Rearch * Impact * Confidence}{Efforts}$$\n",
    "</div>\n",
    "\n",
    "---"
   ]
  },
  {
   "cell_type": "code",
   "execution_count": 121,
   "metadata": {},
   "outputs": [
    {
     "data": {
      "text/html": [
       "<div>\n",
       "<style scoped>\n",
       "    .dataframe tbody tr th:only-of-type {\n",
       "        vertical-align: middle;\n",
       "    }\n",
       "\n",
       "    .dataframe tbody tr th {\n",
       "        vertical-align: top;\n",
       "    }\n",
       "\n",
       "    .dataframe thead th {\n",
       "        text-align: right;\n",
       "    }\n",
       "</style>\n",
       "<table border=\"1\" class=\"dataframe\">\n",
       "  <thead>\n",
       "    <tr style=\"text-align: right;\">\n",
       "      <th></th>\n",
       "      <th>hypothesis</th>\n",
       "      <th>ICE</th>\n",
       "    </tr>\n",
       "  </thead>\n",
       "  <tbody>\n",
       "    <tr>\n",
       "      <th>8</th>\n",
       "      <td>Запустить акцию, дающую скидку на товар в день рождения</td>\n",
       "      <td>16.200000</td>\n",
       "    </tr>\n",
       "    <tr>\n",
       "      <th>0</th>\n",
       "      <td>Добавить два новых канала привлечения трафика, что позволит привлекать на 30% больше пользователей</td>\n",
       "      <td>13.333333</td>\n",
       "    </tr>\n",
       "    <tr>\n",
       "      <th>7</th>\n",
       "      <td>Добавить форму подписки на все основные страницы, чтобы собрать базу клиентов для email-рассылок</td>\n",
       "      <td>11.200000</td>\n",
       "    </tr>\n",
       "    <tr>\n",
       "      <th>6</th>\n",
       "      <td>Показать на главной странице баннеры с актуальными акциями и распродажами, чтобы увеличить конверсию</td>\n",
       "      <td>8.000000</td>\n",
       "    </tr>\n",
       "    <tr>\n",
       "      <th>2</th>\n",
       "      <td>Добавить блоки рекомендаций товаров на сайт интернет магазина, чтобы повысить конверсию и средний чек заказа</td>\n",
       "      <td>7.000000</td>\n",
       "    </tr>\n",
       "    <tr>\n",
       "      <th>1</th>\n",
       "      <td>Запустить собственную службу доставки, что сократит срок доставки заказов</td>\n",
       "      <td>2.000000</td>\n",
       "    </tr>\n",
       "    <tr>\n",
       "      <th>5</th>\n",
       "      <td>Добавить страницу отзывов клиентов о магазине, что позволит увеличить количество заказов</td>\n",
       "      <td>1.333333</td>\n",
       "    </tr>\n",
       "    <tr>\n",
       "      <th>3</th>\n",
       "      <td>Изменить структура категорий, что увеличит конверсию, т.к. пользователи быстрее найдут нужный товар</td>\n",
       "      <td>1.125000</td>\n",
       "    </tr>\n",
       "    <tr>\n",
       "      <th>4</th>\n",
       "      <td>Изменить цвет фона главной страницы, чтобы увеличить вовлеченность пользователей</td>\n",
       "      <td>1.000000</td>\n",
       "    </tr>\n",
       "  </tbody>\n",
       "</table>\n",
       "</div>"
      ],
      "text/plain": [
       "                                                                                                     hypothesis  \\\n",
       "8                                                       Запустить акцию, дающую скидку на товар в день рождения   \n",
       "0            Добавить два новых канала привлечения трафика, что позволит привлекать на 30% больше пользователей   \n",
       "7              Добавить форму подписки на все основные страницы, чтобы собрать базу клиентов для email-рассылок   \n",
       "6          Показать на главной странице баннеры с актуальными акциями и распродажами, чтобы увеличить конверсию   \n",
       "2  Добавить блоки рекомендаций товаров на сайт интернет магазина, чтобы повысить конверсию и средний чек заказа   \n",
       "1                                     Запустить собственную службу доставки, что сократит срок доставки заказов   \n",
       "5                      Добавить страницу отзывов клиентов о магазине, что позволит увеличить количество заказов   \n",
       "3           Изменить структура категорий, что увеличит конверсию, т.к. пользователи быстрее найдут нужный товар   \n",
       "4                              Изменить цвет фона главной страницы, чтобы увеличить вовлеченность пользователей   \n",
       "\n",
       "         ICE  \n",
       "8  16.200000  \n",
       "0  13.333333  \n",
       "7  11.200000  \n",
       "6   8.000000  \n",
       "2   7.000000  \n",
       "1   2.000000  \n",
       "5   1.333333  \n",
       "3   1.125000  \n",
       "4   1.000000  "
      ]
     },
     "execution_count": 121,
     "metadata": {},
     "output_type": "execute_result"
    }
   ],
   "source": [
    "data['ICE'] = data['impact']*data['confidence']/data['efforts']\n",
    "data[['hypothesis', 'ICE']].sort_values(by = 'ICE', ascending = False)"
   ]
  },
  {
   "cell_type": "markdown",
   "metadata": {},
   "source": [
    "Hypotheses are top priority.\n",
    "- Launch a promotion that gives a discount on goods on your birthday\n",
    "- Add two new channels to attract traffic, which will attract 30% more users\t\n",
    "- Add a subscription form to all main pages to build a customer base for email newsletters\t\n",
    "- Display banners with current promotions and sales on the main page to increase conversion\n"
   ]
  },
  {
   "cell_type": "markdown",
   "metadata": {},
   "source": [
    "Now apply the method **RICE**"
   ]
  },
  {
   "cell_type": "code",
   "execution_count": 122,
   "metadata": {},
   "outputs": [
    {
     "data": {
      "text/html": [
       "<div>\n",
       "<style scoped>\n",
       "    .dataframe tbody tr th:only-of-type {\n",
       "        vertical-align: middle;\n",
       "    }\n",
       "\n",
       "    .dataframe tbody tr th {\n",
       "        vertical-align: top;\n",
       "    }\n",
       "\n",
       "    .dataframe thead th {\n",
       "        text-align: right;\n",
       "    }\n",
       "</style>\n",
       "<table border=\"1\" class=\"dataframe\">\n",
       "  <thead>\n",
       "    <tr style=\"text-align: right;\">\n",
       "      <th></th>\n",
       "      <th>hypothesis</th>\n",
       "      <th>RICE</th>\n",
       "    </tr>\n",
       "  </thead>\n",
       "  <tbody>\n",
       "    <tr>\n",
       "      <th>7</th>\n",
       "      <td>Добавить форму подписки на все основные страницы, чтобы собрать базу клиентов для email-рассылок</td>\n",
       "      <td>112.0</td>\n",
       "    </tr>\n",
       "    <tr>\n",
       "      <th>2</th>\n",
       "      <td>Добавить блоки рекомендаций товаров на сайт интернет магазина, чтобы повысить конверсию и средний чек заказа</td>\n",
       "      <td>56.0</td>\n",
       "    </tr>\n",
       "    <tr>\n",
       "      <th>0</th>\n",
       "      <td>Добавить два новых канала привлечения трафика, что позволит привлекать на 30% больше пользователей</td>\n",
       "      <td>40.0</td>\n",
       "    </tr>\n",
       "    <tr>\n",
       "      <th>6</th>\n",
       "      <td>Показать на главной странице баннеры с актуальными акциями и распродажами, чтобы увеличить конверсию</td>\n",
       "      <td>40.0</td>\n",
       "    </tr>\n",
       "    <tr>\n",
       "      <th>8</th>\n",
       "      <td>Запустить акцию, дающую скидку на товар в день рождения</td>\n",
       "      <td>16.2</td>\n",
       "    </tr>\n",
       "    <tr>\n",
       "      <th>3</th>\n",
       "      <td>Изменить структура категорий, что увеличит конверсию, т.к. пользователи быстрее найдут нужный товар</td>\n",
       "      <td>9.0</td>\n",
       "    </tr>\n",
       "    <tr>\n",
       "      <th>1</th>\n",
       "      <td>Запустить собственную службу доставки, что сократит срок доставки заказов</td>\n",
       "      <td>4.0</td>\n",
       "    </tr>\n",
       "    <tr>\n",
       "      <th>5</th>\n",
       "      <td>Добавить страницу отзывов клиентов о магазине, что позволит увеличить количество заказов</td>\n",
       "      <td>4.0</td>\n",
       "    </tr>\n",
       "    <tr>\n",
       "      <th>4</th>\n",
       "      <td>Изменить цвет фона главной страницы, чтобы увеличить вовлеченность пользователей</td>\n",
       "      <td>3.0</td>\n",
       "    </tr>\n",
       "  </tbody>\n",
       "</table>\n",
       "</div>"
      ],
      "text/plain": [
       "                                                                                                     hypothesis  \\\n",
       "7              Добавить форму подписки на все основные страницы, чтобы собрать базу клиентов для email-рассылок   \n",
       "2  Добавить блоки рекомендаций товаров на сайт интернет магазина, чтобы повысить конверсию и средний чек заказа   \n",
       "0            Добавить два новых канала привлечения трафика, что позволит привлекать на 30% больше пользователей   \n",
       "6          Показать на главной странице баннеры с актуальными акциями и распродажами, чтобы увеличить конверсию   \n",
       "8                                                       Запустить акцию, дающую скидку на товар в день рождения   \n",
       "3           Изменить структура категорий, что увеличит конверсию, т.к. пользователи быстрее найдут нужный товар   \n",
       "1                                     Запустить собственную службу доставки, что сократит срок доставки заказов   \n",
       "5                      Добавить страницу отзывов клиентов о магазине, что позволит увеличить количество заказов   \n",
       "4                              Изменить цвет фона главной страницы, чтобы увеличить вовлеченность пользователей   \n",
       "\n",
       "    RICE  \n",
       "7  112.0  \n",
       "2   56.0  \n",
       "0   40.0  \n",
       "6   40.0  \n",
       "8   16.2  \n",
       "3    9.0  \n",
       "1    4.0  \n",
       "5    4.0  \n",
       "4    3.0  "
      ]
     },
     "execution_count": 122,
     "metadata": {},
     "output_type": "execute_result"
    }
   ],
   "source": [
    "data['RICE'] = data['reach']*data['impact']*data['confidence']/data['efforts']\n",
    "data[['hypothesis', 'RICE']].sort_values(by = 'RICE', ascending = False)"
   ]
  },
  {
   "cell_type": "markdown",
   "metadata": {},
   "source": [
    "The priority of hypotheses has changed in the RICE method. The first four places are:\n",
    "- Add a subscription form to all main pages to build a customer base for email newsletters\n",
    "- Add blocks of product recommendations to the website of the online store to increase conversion and average check of the orde\t\n",
    "- Add two new channels to attract traffic, which will attract 30% more users\t\n",
    "- Display banners with current promotions and sales on the main page to increase conversion\n",
    "\n",
    "\n",
    "At the same time, in the ICE method, the second listed hypothesis occupied the fifth place."
   ]
  },
  {
   "cell_type": "markdown",
   "metadata": {},
   "source": [
    "The differences are due to the addition of one parameter to the calculation - reach (user coverage).\n",
    "The hypothesis \"Launch a promotion that gives a discount on a product on a birthday\" will affect fewer users than the hypothesis of adding recommendation blocks for a product or adding two new traffic acquisition channels."
   ]
  },
  {
   "cell_type": "code",
   "execution_count": 123,
   "metadata": {},
   "outputs": [
    {
     "data": {
      "image/png": "[encoded data removed]",
      "text/plain": [
       "<Figure size 720x720 with 1 Axes>"
      ]
     },
     "metadata": {
      "needs_background": "light"
     },
     "output_type": "display_data"
    }
   ],
   "source": [
    "y = data['ICE'] \n",
    "z = data['RICE'] \n",
    "n = data.index \n",
    "\n",
    "fig, ax = plt.subplots()\n",
    "ax.scatter(z, y)\n",
    "\n",
    "for i, txt in enumerate(n):\n",
    "    ax.annotate(txt, (z[i], y[i]), size=30)\n",
    "\n",
    "plt.title(\"ICE and RICE hypothesis\") \n",
    "plt.xlabel(\"RICE\") \n",
    "plt.ylabel(\"ICE\")\n",
    "plt.grid()    \n",
    "\n",
    "fig.set_figheight(10)\n",
    "fig.set_figwidth(10) \n",
    "plt.show()"
   ]
  },
  {
   "cell_type": "markdown",
   "metadata": {},
   "source": [
    "Thus, based on the results of the two texts, we can say that **the most priority are hypotheses**:\n",
    "- Add a subscription form to all main pages to build a customer base for email newsletters\n",
    "- Add blocks of product recommendations to the website of the online store to increase conversion and average check of the order\n",
    "- Add two new channels to attract traffic, which will attract 30% more users"
   ]
  },
  {
   "cell_type": "markdown",
   "metadata": {},
   "source": [
    "## A/B test analysis <a id='AB-test'></a>"
   ]
  },
  {
   "cell_type": "code",
   "execution_count": 124,
   "metadata": {},
   "outputs": [
    {
     "data": {
      "text/html": [
       "<div>\n",
       "<style scoped>\n",
       "    .dataframe tbody tr th:only-of-type {\n",
       "        vertical-align: middle;\n",
       "    }\n",
       "\n",
       "    .dataframe tbody tr th {\n",
       "        vertical-align: top;\n",
       "    }\n",
       "\n",
       "    .dataframe thead th {\n",
       "        text-align: right;\n",
       "    }\n",
       "</style>\n",
       "<table border=\"1\" class=\"dataframe\">\n",
       "  <thead>\n",
       "    <tr style=\"text-align: right;\">\n",
       "      <th></th>\n",
       "      <th>transactionId</th>\n",
       "      <th>visitorId</th>\n",
       "      <th>date</th>\n",
       "      <th>revenue</th>\n",
       "      <th>group</th>\n",
       "    </tr>\n",
       "  </thead>\n",
       "  <tbody>\n",
       "    <tr>\n",
       "      <th>0</th>\n",
       "      <td>3667963787</td>\n",
       "      <td>3312258926</td>\n",
       "      <td>2019-08-15</td>\n",
       "      <td>1650</td>\n",
       "      <td>B</td>\n",
       "    </tr>\n",
       "    <tr>\n",
       "      <th>1</th>\n",
       "      <td>2804400009</td>\n",
       "      <td>3642806036</td>\n",
       "      <td>2019-08-15</td>\n",
       "      <td>730</td>\n",
       "      <td>B</td>\n",
       "    </tr>\n",
       "    <tr>\n",
       "      <th>2</th>\n",
       "      <td>2961555356</td>\n",
       "      <td>4069496402</td>\n",
       "      <td>2019-08-15</td>\n",
       "      <td>400</td>\n",
       "      <td>A</td>\n",
       "    </tr>\n",
       "    <tr>\n",
       "      <th>3</th>\n",
       "      <td>3797467345</td>\n",
       "      <td>1196621759</td>\n",
       "      <td>2019-08-15</td>\n",
       "      <td>9759</td>\n",
       "      <td>B</td>\n",
       "    </tr>\n",
       "    <tr>\n",
       "      <th>4</th>\n",
       "      <td>2282983706</td>\n",
       "      <td>2322279887</td>\n",
       "      <td>2019-08-15</td>\n",
       "      <td>2308</td>\n",
       "      <td>B</td>\n",
       "    </tr>\n",
       "  </tbody>\n",
       "</table>\n",
       "</div>"
      ],
      "text/plain": [
       "   transactionId   visitorId       date  revenue group\n",
       "0     3667963787  3312258926 2019-08-15     1650     B\n",
       "1     2804400009  3642806036 2019-08-15      730     B\n",
       "2     2961555356  4069496402 2019-08-15      400     A\n",
       "3     3797467345  1196621759 2019-08-15     9759     B\n",
       "4     2282983706  2322279887 2019-08-15     2308     B"
      ]
     },
     "metadata": {},
     "output_type": "display_data"
    },
    {
     "name": "stdout",
     "output_type": "stream",
     "text": [
      "<class 'pandas.core.frame.DataFrame'>\n",
      "RangeIndex: 1197 entries, 0 to 1196\n",
      "Data columns (total 5 columns):\n",
      " #   Column         Non-Null Count  Dtype         \n",
      "---  ------         --------------  -----         \n",
      " 0   transactionId  1197 non-null   int64         \n",
      " 1   visitorId      1197 non-null   int64         \n",
      " 2   date           1197 non-null   datetime64[ns]\n",
      " 3   revenue        1197 non-null   int64         \n",
      " 4   group          1197 non-null   object        \n",
      "dtypes: datetime64[ns](1), int64(3), object(1)\n",
      "memory usage: 46.9+ KB\n"
     ]
    }
   ],
   "source": [
    "orders = pd.read_csv('C://Users//chame//Downloads///orders.csv')\n",
    "orders['date'] = orders['date'].map(lambda x: dt.datetime.strptime(x, '%Y-%m-%d'))\n",
    "display(orders.head())\n",
    "orders.info()"
   ]
  },
  {
   "cell_type": "markdown",
   "metadata": {},
   "source": [
    "Data types are correct, no gaps found"
   ]
  },
  {
   "cell_type": "code",
   "execution_count": 125,
   "metadata": {},
   "outputs": [
    {
     "data": {
      "text/html": [
       "<div>\n",
       "<style scoped>\n",
       "    .dataframe tbody tr th:only-of-type {\n",
       "        vertical-align: middle;\n",
       "    }\n",
       "\n",
       "    .dataframe tbody tr th {\n",
       "        vertical-align: top;\n",
       "    }\n",
       "\n",
       "    .dataframe thead th {\n",
       "        text-align: right;\n",
       "    }\n",
       "</style>\n",
       "<table border=\"1\" class=\"dataframe\">\n",
       "  <thead>\n",
       "    <tr style=\"text-align: right;\">\n",
       "      <th></th>\n",
       "      <th>date</th>\n",
       "      <th>group</th>\n",
       "      <th>visitors</th>\n",
       "    </tr>\n",
       "  </thead>\n",
       "  <tbody>\n",
       "    <tr>\n",
       "      <th>0</th>\n",
       "      <td>2019-08-01</td>\n",
       "      <td>A</td>\n",
       "      <td>719</td>\n",
       "    </tr>\n",
       "    <tr>\n",
       "      <th>1</th>\n",
       "      <td>2019-08-02</td>\n",
       "      <td>A</td>\n",
       "      <td>619</td>\n",
       "    </tr>\n",
       "    <tr>\n",
       "      <th>2</th>\n",
       "      <td>2019-08-03</td>\n",
       "      <td>A</td>\n",
       "      <td>507</td>\n",
       "    </tr>\n",
       "    <tr>\n",
       "      <th>3</th>\n",
       "      <td>2019-08-04</td>\n",
       "      <td>A</td>\n",
       "      <td>717</td>\n",
       "    </tr>\n",
       "    <tr>\n",
       "      <th>4</th>\n",
       "      <td>2019-08-05</td>\n",
       "      <td>A</td>\n",
       "      <td>756</td>\n",
       "    </tr>\n",
       "  </tbody>\n",
       "</table>\n",
       "</div>"
      ],
      "text/plain": [
       "        date group  visitors\n",
       "0 2019-08-01     A       719\n",
       "1 2019-08-02     A       619\n",
       "2 2019-08-03     A       507\n",
       "3 2019-08-04     A       717\n",
       "4 2019-08-05     A       756"
      ]
     },
     "metadata": {},
     "output_type": "display_data"
    },
    {
     "name": "stdout",
     "output_type": "stream",
     "text": [
      "<class 'pandas.core.frame.DataFrame'>\n",
      "RangeIndex: 62 entries, 0 to 61\n",
      "Data columns (total 3 columns):\n",
      " #   Column    Non-Null Count  Dtype         \n",
      "---  ------    --------------  -----         \n",
      " 0   date      62 non-null     datetime64[ns]\n",
      " 1   group     62 non-null     object        \n",
      " 2   visitors  62 non-null     int64         \n",
      "dtypes: datetime64[ns](1), int64(1), object(1)\n",
      "memory usage: 1.6+ KB\n"
     ]
    }
   ],
   "source": [
    "visitors = pd.read_csv('C://Users//chame//Downloads//visitors.csv', parse_dates = ['date'])\n",
    "display(visitors.head())\n",
    "visitors.info()"
   ]
  },
  {
   "cell_type": "markdown",
   "metadata": {},
   "source": [
    "Data types are also correct, no gaps"
   ]
  },
  {
   "cell_type": "markdown",
   "metadata": {},
   "source": [
    "Now you need to **check** the data **for duplicates**"
   ]
  },
  {
   "cell_type": "code",
   "execution_count": 126,
   "metadata": {},
   "outputs": [
    {
     "data": {
      "text/plain": [
       "(0, 0)"
      ]
     },
     "execution_count": 126,
     "metadata": {},
     "output_type": "execute_result"
    }
   ],
   "source": [
    "visitors.duplicated().sum(), orders.duplicated().sum()"
   ]
  },
  {
   "cell_type": "markdown",
   "metadata": {},
   "source": [
    "No duplicates found"
   ]
  },
  {
   "cell_type": "code",
   "execution_count": 127,
   "metadata": {},
   "outputs": [
    {
     "data": {
      "text/plain": [
       "array(['B', 'A'], dtype=object)"
      ]
     },
     "execution_count": 127,
     "metadata": {},
     "output_type": "execute_result"
    }
   ],
   "source": [
    "orders['group'].unique()"
   ]
  },
  {
   "cell_type": "markdown",
   "metadata": {},
   "source": [
    "Only two groups of A/B test"
   ]
  },
  {
   "cell_type": "markdown",
   "metadata": {},
   "source": [
    "Let's find out the dates of the test, and also make sure that they match in both datasets"
   ]
  },
  {
   "cell_type": "code",
   "execution_count": 128,
   "metadata": {},
   "outputs": [
    {
     "data": {
      "text/plain": [
       "(Timestamp('2019-08-01 00:00:00'), Timestamp('2019-08-31 00:00:00'))"
      ]
     },
     "execution_count": 128,
     "metadata": {},
     "output_type": "execute_result"
    }
   ],
   "source": [
    "orders['date'].min(), orders['date'].max()"
   ]
  },
  {
   "cell_type": "code",
   "execution_count": 129,
   "metadata": {},
   "outputs": [
    {
     "data": {
      "text/plain": [
       "(Timestamp('2019-08-01 00:00:00'), Timestamp('2019-08-01 00:00:00'))"
      ]
     },
     "execution_count": 129,
     "metadata": {},
     "output_type": "execute_result"
    }
   ],
   "source": [
    "visitors['date'].min(), visitors['date'].min()"
   ]
  },
  {
   "cell_type": "markdown",
   "metadata": {},
   "source": [
    "The test was conducted from 01/08/2019 to 31/08/2019, that is, the whole of August 2019"
   ]
  },
  {
   "cell_type": "markdown",
   "metadata": {},
   "source": [
    "Calculate **number of unique users** for each group"
   ]
  },
  {
   "cell_type": "code",
   "execution_count": 130,
   "metadata": {},
   "outputs": [
    {
     "data": {
      "text/html": [
       "<div>\n",
       "<style scoped>\n",
       "    .dataframe tbody tr th:only-of-type {\n",
       "        vertical-align: middle;\n",
       "    }\n",
       "\n",
       "    .dataframe tbody tr th {\n",
       "        vertical-align: top;\n",
       "    }\n",
       "\n",
       "    .dataframe thead th {\n",
       "        text-align: right;\n",
       "    }\n",
       "</style>\n",
       "<table border=\"1\" class=\"dataframe\">\n",
       "  <thead>\n",
       "    <tr style=\"text-align: right;\">\n",
       "      <th></th>\n",
       "      <th>group</th>\n",
       "      <th>visitorId</th>\n",
       "    </tr>\n",
       "  </thead>\n",
       "  <tbody>\n",
       "    <tr>\n",
       "      <th>0</th>\n",
       "      <td>A</td>\n",
       "      <td>503</td>\n",
       "    </tr>\n",
       "    <tr>\n",
       "      <th>1</th>\n",
       "      <td>B</td>\n",
       "      <td>586</td>\n",
       "    </tr>\n",
       "  </tbody>\n",
       "</table>\n",
       "</div>"
      ],
      "text/plain": [
       "  group  visitorId\n",
       "0     A        503\n",
       "1     B        586"
      ]
     },
     "metadata": {},
     "output_type": "display_data"
    },
    {
     "data": {
      "text/plain": [
       "'Доля уникальных клиентов группы A составляет 46.2 процентов от общего количества'"
      ]
     },
     "execution_count": 130,
     "metadata": {},
     "output_type": "execute_result"
    }
   ],
   "source": [
    "grouped_orders = orders.groupby(by='group', as_index = False).agg({'visitorId':'nunique'})\n",
    "display(grouped_orders)\n",
    "f'Доля уникальных клиентов группы A составляет {grouped_orders[\"visitorId\"][0]/grouped_orders[\"visitorId\"].sum() * 100:.1f} процентов от общего количества'"
   ]
  },
  {
   "cell_type": "markdown",
   "metadata": {},
   "source": [
    "Thus, the difference is 3.8%, which is an acceptable level, it is not necessary to delete data"
   ]
  },
  {
   "cell_type": "markdown",
   "metadata": {},
   "source": [
    "At the same time, the number of visits for each group:"
   ]
  },
  {
   "cell_type": "code",
   "execution_count": 131,
   "metadata": {},
   "outputs": [
    {
     "data": {
      "text/html": [
       "<div>\n",
       "<style scoped>\n",
       "    .dataframe tbody tr th:only-of-type {\n",
       "        vertical-align: middle;\n",
       "    }\n",
       "\n",
       "    .dataframe tbody tr th {\n",
       "        vertical-align: top;\n",
       "    }\n",
       "\n",
       "    .dataframe thead th {\n",
       "        text-align: right;\n",
       "    }\n",
       "</style>\n",
       "<table border=\"1\" class=\"dataframe\">\n",
       "  <thead>\n",
       "    <tr style=\"text-align: right;\">\n",
       "      <th></th>\n",
       "      <th>visitors</th>\n",
       "    </tr>\n",
       "    <tr>\n",
       "      <th>group</th>\n",
       "      <th></th>\n",
       "    </tr>\n",
       "  </thead>\n",
       "  <tbody>\n",
       "    <tr>\n",
       "      <th>A</th>\n",
       "      <td>18736</td>\n",
       "    </tr>\n",
       "    <tr>\n",
       "      <th>B</th>\n",
       "      <td>18916</td>\n",
       "    </tr>\n",
       "  </tbody>\n",
       "</table>\n",
       "</div>"
      ],
      "text/plain": [
       "       visitors\n",
       "group          \n",
       "A         18736\n",
       "B         18916"
      ]
     },
     "execution_count": 131,
     "metadata": {},
     "output_type": "execute_result"
    }
   ],
   "source": [
    "grouped_visits = visitors.groupby(by='group').agg({'visitors':'sum'})\n",
    "grouped_visits"
   ]
  },
  {
   "cell_type": "markdown",
   "metadata": {},
   "source": [
    "Now let's see if there are those who fell into two groups at the same time."
   ]
  },
  {
   "cell_type": "code",
   "execution_count": 132,
   "metadata": {},
   "outputs": [
    {
     "data": {
      "text/plain": [
       "58"
      ]
     },
     "execution_count": 132,
     "metadata": {},
     "output_type": "execute_result"
    }
   ],
   "source": [
    "amount_of_group = orders.groupby(by = 'visitorId', as_index = False).agg({'group':'nunique'}).sort_values(by ='group', ascending = False)\n",
    "len(amount_of_group[amount_of_group['group'] == 2])"
   ]
  },
  {
   "cell_type": "markdown",
   "metadata": {},
   "source": [
    "At the same time, 58 users fell into two groups. Let's leave them in the data"
   ]
  },
  {
   "cell_type": "markdown",
   "metadata": {},
   "source": [
    "So let's summarize:\n",
    "- There are two test groups\n",
    "- In group A - 503 unique users (46.2% of the total), in group B - 586 (53.8% of the total)\n",
    "- 558 users were simultaneously in two groups\n",
    "\n",
    "\n",
    "***Test dates***: from 01-08-2019 to 31-08-2019"
   ]
  },
  {
   "cell_type": "markdown",
   "metadata": {},
   "source": [
    "### Analysis of cumulative metrics (revenue, average check and conversion)"
   ]
  },
  {
   "cell_type": "markdown",
   "metadata": {},
   "source": [
    "#### Analysis of cumulative revenue"
   ]
  },
  {
   "cell_type": "code",
   "execution_count": 133,
   "metadata": {},
   "outputs": [
    {
     "data": {
      "text/html": [
       "<div>\n",
       "<style scoped>\n",
       "    .dataframe tbody tr th:only-of-type {\n",
       "        vertical-align: middle;\n",
       "    }\n",
       "\n",
       "    .dataframe tbody tr th {\n",
       "        vertical-align: top;\n",
       "    }\n",
       "\n",
       "    .dataframe thead th {\n",
       "        text-align: right;\n",
       "    }\n",
       "</style>\n",
       "<table border=\"1\" class=\"dataframe\">\n",
       "  <thead>\n",
       "    <tr style=\"text-align: right;\">\n",
       "      <th></th>\n",
       "      <th>date</th>\n",
       "      <th>group</th>\n",
       "      <th>orders</th>\n",
       "      <th>buyers</th>\n",
       "      <th>revenue</th>\n",
       "      <th>visitors</th>\n",
       "    </tr>\n",
       "  </thead>\n",
       "  <tbody>\n",
       "    <tr>\n",
       "      <th>0</th>\n",
       "      <td>2019-08-01</td>\n",
       "      <td>A</td>\n",
       "      <td>24</td>\n",
       "      <td>20</td>\n",
       "      <td>148579</td>\n",
       "      <td>719</td>\n",
       "    </tr>\n",
       "    <tr>\n",
       "      <th>1</th>\n",
       "      <td>2019-08-01</td>\n",
       "      <td>B</td>\n",
       "      <td>21</td>\n",
       "      <td>20</td>\n",
       "      <td>101217</td>\n",
       "      <td>713</td>\n",
       "    </tr>\n",
       "    <tr>\n",
       "      <th>2</th>\n",
       "      <td>2019-08-02</td>\n",
       "      <td>A</td>\n",
       "      <td>44</td>\n",
       "      <td>38</td>\n",
       "      <td>242401</td>\n",
       "      <td>1338</td>\n",
       "    </tr>\n",
       "    <tr>\n",
       "      <th>3</th>\n",
       "      <td>2019-08-02</td>\n",
       "      <td>B</td>\n",
       "      <td>45</td>\n",
       "      <td>43</td>\n",
       "      <td>266748</td>\n",
       "      <td>1294</td>\n",
       "    </tr>\n",
       "    <tr>\n",
       "      <th>4</th>\n",
       "      <td>2019-08-03</td>\n",
       "      <td>A</td>\n",
       "      <td>68</td>\n",
       "      <td>62</td>\n",
       "      <td>354874</td>\n",
       "      <td>1845</td>\n",
       "    </tr>\n",
       "  </tbody>\n",
       "</table>\n",
       "</div>"
      ],
      "text/plain": [
       "        date group  orders  buyers  revenue  visitors\n",
       "0 2019-08-01     A      24      20   148579       719\n",
       "1 2019-08-01     B      21      20   101217       713\n",
       "2 2019-08-02     A      44      38   242401      1338\n",
       "3 2019-08-02     B      45      43   266748      1294\n",
       "4 2019-08-03     A      68      62   354874      1845"
      ]
     },
     "metadata": {},
     "output_type": "display_data"
    },
    {
     "data": {
      "text/plain": [
       "(Timestamp('2019-08-01 00:00:00'), Timestamp('2019-08-31 00:00:00'))"
      ]
     },
     "execution_count": 133,
     "metadata": {},
     "output_type": "execute_result"
    }
   ],
   "source": [
    "# create an array of unique pairs of date values and test groups\n",
    "datesGroups = orders[['date','group']].drop_duplicates()\n",
    "\n",
    "# we get aggregated cumulative data on orders by day \n",
    "ordersAggregated = datesGroups.apply(lambda x: orders[np.logical_and(orders['date'] <= x['date'], orders['group'] == x['group'])].agg({'date' : 'max', 'group' : 'max', 'transactionId' : 'nunique', 'visitorId' : 'nunique', 'revenue' : 'sum'}), axis=1).sort_values(by=['date','group'])\n",
    "\n",
    "# we get aggregated data cumulative by day about online store visitors\n",
    "visitorsAggregated = datesGroups.apply(lambda x: visitors[np.logical_and(visitors['date'] <= x['date'], visitors['group'] == x['group'])].agg({'date' : 'max', 'group' : 'max', 'visitors' : 'sum'}), axis=1).sort_values(by=['date','group'])\n",
    "\n",
    "# we combine cumulative data in one table and assign understandable names to its columns\n",
    "cumulativeData = ordersAggregated.merge(visitorsAggregated, left_on=['date', 'group'], right_on=['date', 'group'])\n",
    "cumulativeData.columns = ['date', 'group', 'orders', 'buyers', 'revenue', 'visitors']\n",
    "\n",
    "display(cumulativeData.head(5))\n",
    "datesGroups['date'].min(), datesGroups['date'].max()"
   ]
  },
  {
   "cell_type": "markdown",
   "metadata": {},
   "source": [
    "The dates are the same as the test dates calculated earlier"
   ]
  },
  {
   "cell_type": "code",
   "execution_count": 134,
   "metadata": {},
   "outputs": [
    {
     "data": {
      "image/png": "[encoded data removed]",
      "text/plain": [
       "<Figure size 432x288 with 1 Axes>"
      ]
     },
     "metadata": {
      "needs_background": "light"
     },
     "output_type": "display_data"
    }
   ],
   "source": [
    "# dataframe with cumulative number of orders and cumulative revenue by day in group A\n",
    "cumulativeRevenueA = cumulativeData[cumulativeData['group']=='A'][['date','revenue', 'orders']]\n",
    "\n",
    "# dataframe with cumulative number of orders and cumulative revenue by day in group B\n",
    "cumulativeRevenueB = cumulativeData[cumulativeData['group']=='B'][['date','revenue', 'orders']]\n",
    "\n",
    "\n",
    "# construct a graph of the revenue of group A\n",
    "plt.plot(cumulativeRevenueA['date'], cumulativeRevenueA['revenue'], label='A')\n",
    "\n",
    "# construct a revenue schedule for group B\n",
    "plt.plot(cumulativeRevenueB['date'], cumulativeRevenueB['revenue'], label='B')\n",
    "\n",
    "plt.title('Graph of cumulative revenue')\n",
    "plt.xlabel('Date')\n",
    "plt.ylabel('Revenue')\n",
    "plt.xticks(rotation=45)  \n",
    "plt.legend();"
   ]
  },
  {
   "cell_type": "markdown",
   "metadata": {},
   "source": [
    "Group A's revenue increases more evenly than Group B's revenue. In the second, there was a strong jump around August 18. This may be an indicator of a sharp increase in the number of orders that day, or the appearance of expensive orders."
   ]
  },
  {
   "cell_type": "markdown",
   "metadata": {},
   "source": [
    "#### Calculation of the average check"
   ]
  },
  {
   "cell_type": "code",
   "execution_count": 135,
   "metadata": {},
   "outputs": [
    {
     "data": {
      "image/png": "[encoded data removed]",
      "text/plain": [
       "<Figure size 792x288 with 1 Axes>"
      ]
     },
     "metadata": {
      "needs_background": "light"
     },
     "output_type": "display_data"
    }
   ],
   "source": [
    "fig = plt.figure()\n",
    "    \n",
    "fig.set_figwidth(11)\n",
    "\n",
    "plt.plot(cumulativeRevenueA['date'], cumulativeRevenueA['revenue']/cumulativeRevenueA['orders'], label='A')\n",
    "plt.plot(cumulativeRevenueB['date'], cumulativeRevenueB['revenue']/cumulativeRevenueB['orders'], label='B')\n",
    "plt.title('Average check chart')\n",
    "plt.xlabel('Date')\n",
    "plt.ylabel('Average check')\n",
    "plt.legend();"
   ]
  },
  {
   "cell_type": "markdown",
   "metadata": {},
   "source": [
    "The average check also becomes uniform towards the end of the test: it settled for group A and continues to fall for group B. It is possible that large orders fell into group B in the first half of the test (a sharp spike on the chart). That is, more data is required to come to the real average check and settle at its level."
   ]
  },
  {
   "cell_type": "code",
   "execution_count": 136,
   "metadata": {},
   "outputs": [
    {
     "data": {
      "image/png": "[encoded data removed]",
      "text/plain": [
       "<Figure size 720x288 with 1 Axes>"
      ]
     },
     "metadata": {
      "needs_background": "light"
     },
     "output_type": "display_data"
    }
   ],
   "source": [
    "# collect data in one dataframe\n",
    "mergedCumulativeRevenue = cumulativeRevenueA.merge(cumulativeRevenueB, left_on='date', right_on='date', how='left', suffixes=['A', 'B'])\n",
    "\n",
    "# construct the ratio of average bills\n",
    "fig = plt.figure()\n",
    "    \n",
    "fig.set_figwidth(10)\n",
    "plt.plot(mergedCumulativeRevenue['date'], (mergedCumulativeRevenue['revenueB']/mergedCumulativeRevenue['ordersB'])/(mergedCumulativeRevenue['revenueA']/mergedCumulativeRevenue['ordersA'])-1)\n",
    "\n",
    "plt.title('Relative difference chart for average ticket')\n",
    "plt.xlabel('Date')\n",
    "plt.ylabel('The ratio of the average check of group B to the average check of group A')\n",
    "# add an axis\n",
    "plt.axhline(y=0, color='black', linestyle='--');"
   ]
  },
  {
   "cell_type": "markdown",
   "metadata": {},
   "source": [
    "We see sharp declines and rises, which indicates outliers."
   ]
  },
  {
   "cell_type": "markdown",
   "metadata": {},
   "source": [
    "#### Cumulative conversion"
   ]
  },
  {
   "cell_type": "code",
   "execution_count": 137,
   "metadata": {},
   "outputs": [
    {
     "data": {
      "image/png": "[encoded data removed]",
      "text/plain": [
       "<Figure size 720x288 with 1 Axes>"
      ]
     },
     "metadata": {
      "needs_background": "light"
     },
     "output_type": "display_data"
    }
   ],
   "source": [
    "# calculate cumulative conversion\n",
    "cumulativeData['conversion'] = cumulativeData['orders']/cumulativeData['visitors']\n",
    "\n",
    "# separate group-A data\n",
    "cumulativeDataA = cumulativeData[cumulativeData['group']=='A']\n",
    "\n",
    "# separate group-B data\n",
    "cumulativeDataB = cumulativeData[cumulativeData['group']=='B']\n",
    "\n",
    "# construct graphs\n",
    "fig = plt.figure()\n",
    "    \n",
    "fig.set_figwidth(10)\n",
    "plt.plot(cumulativeDataA['date'], cumulativeDataA['conversion'], label='A')\n",
    "plt.plot(cumulativeDataB['date'], cumulativeDataB['conversion'], label='B')\n",
    "plt.title('Cumulative conversion chart')\n",
    "plt.xlabel('Date')\n",
    "plt.ylabel('Cumulative conversion')\n",
    "\n",
    "plt.legend();"
   ]
  },
  {
   "cell_type": "markdown",
   "metadata": {},
   "source": [
    "Group B converts more than Group A, they look fixed"
   ]
  },
  {
   "cell_type": "code",
   "execution_count": 138,
   "metadata": {},
   "outputs": [
    {
     "data": {
      "image/png": "[encoded data removed]",
      "text/plain": [
       "<Figure size 720x288 with 1 Axes>"
      ]
     },
     "metadata": {
      "needs_background": "light"
     },
     "output_type": "display_data"
    }
   ],
   "source": [
    "mergedCumulativeConversions = cumulativeDataA[['date','conversion']].merge(cumulativeDataB[['date','conversion']], left_on='date', right_on='date', how='left', suffixes=['A', 'B'])\n",
    "\n",
    "fig = plt.figure()\n",
    "    \n",
    "fig.set_figwidth(10)\n",
    "plt.plot(mergedCumulativeConversions['date'], mergedCumulativeConversions['conversionB']/mergedCumulativeConversions['conversionA']-1, label=\"Relative increase in conversion of group B relative to group A\")\n",
    "\n",
    "plt.title('Relative difference graph of cumulative conversions')\n",
    "plt.xlabel('Date')\n",
    "plt.ylabel('Ratio of cumulative conversion of group B to group A')\n",
    "\n",
    "plt.legend()\n",
    "\n",
    "\n",
    "plt.axhline(y=0, color='black', linestyle='--')\n",
    "plt.axhline(y=0.1, color='grey', linestyle='--');"
   ]
  },
  {
   "cell_type": "markdown",
   "metadata": {},
   "source": [
    "At first, group B lost a lot to group A. Then the positions changed and the relative increase in conversion became higher in group B, but so far the conversion ratio has not yet been seted up."
   ]
  },
  {
   "cell_type": "markdown",
   "metadata": {},
   "source": [
    "### Outlier analysis"
   ]
  },
  {
   "cell_type": "markdown",
   "metadata": {},
   "source": [
    "First, let's count the number of orders for each user"
   ]
  },
  {
   "cell_type": "code",
   "execution_count": 139,
   "metadata": {},
   "outputs": [
    {
     "data": {
      "text/html": [
       "<div>\n",
       "<style scoped>\n",
       "    .dataframe tbody tr th:only-of-type {\n",
       "        vertical-align: middle;\n",
       "    }\n",
       "\n",
       "    .dataframe tbody tr th {\n",
       "        vertical-align: top;\n",
       "    }\n",
       "\n",
       "    .dataframe thead th {\n",
       "        text-align: right;\n",
       "    }\n",
       "</style>\n",
       "<table border=\"1\" class=\"dataframe\">\n",
       "  <thead>\n",
       "    <tr style=\"text-align: right;\">\n",
       "      <th></th>\n",
       "      <th>visitorId</th>\n",
       "      <th>count</th>\n",
       "    </tr>\n",
       "  </thead>\n",
       "  <tbody>\n",
       "    <tr>\n",
       "      <th>1023</th>\n",
       "      <td>4256040402</td>\n",
       "      <td>11</td>\n",
       "    </tr>\n",
       "    <tr>\n",
       "      <th>591</th>\n",
       "      <td>2458001652</td>\n",
       "      <td>11</td>\n",
       "    </tr>\n",
       "    <tr>\n",
       "      <th>569</th>\n",
       "      <td>2378935119</td>\n",
       "      <td>9</td>\n",
       "    </tr>\n",
       "    <tr>\n",
       "      <th>487</th>\n",
       "      <td>2038680547</td>\n",
       "      <td>8</td>\n",
       "    </tr>\n",
       "    <tr>\n",
       "      <th>44</th>\n",
       "      <td>199603092</td>\n",
       "      <td>5</td>\n",
       "    </tr>\n",
       "    <tr>\n",
       "      <th>744</th>\n",
       "      <td>3062433592</td>\n",
       "      <td>5</td>\n",
       "    </tr>\n",
       "    <tr>\n",
       "      <th>55</th>\n",
       "      <td>237748145</td>\n",
       "      <td>5</td>\n",
       "    </tr>\n",
       "    <tr>\n",
       "      <th>917</th>\n",
       "      <td>3803269165</td>\n",
       "      <td>5</td>\n",
       "    </tr>\n",
       "    <tr>\n",
       "      <th>299</th>\n",
       "      <td>1230306981</td>\n",
       "      <td>5</td>\n",
       "    </tr>\n",
       "    <tr>\n",
       "      <th>897</th>\n",
       "      <td>3717692402</td>\n",
       "      <td>5</td>\n",
       "    </tr>\n",
       "  </tbody>\n",
       "</table>\n",
       "</div>"
      ],
      "text/plain": [
       "       visitorId  count\n",
       "1023  4256040402     11\n",
       "591   2458001652     11\n",
       "569   2378935119      9\n",
       "487   2038680547      8\n",
       "44     199603092      5\n",
       "744   3062433592      5\n",
       "55     237748145      5\n",
       "917   3803269165      5\n",
       "299   1230306981      5\n",
       "897   3717692402      5"
      ]
     },
     "execution_count": 139,
     "metadata": {},
     "output_type": "execute_result"
    }
   ],
   "source": [
    "data = orders.groupby(by = 'visitorId', as_index = False).agg({'transactionId':'nunique'})\n",
    "data.columns = ['visitorId', 'count']\n",
    "\n",
    "data.sort_values(by='count',ascending = False).head(10)"
   ]
  },
  {
   "cell_type": "code",
   "execution_count": 140,
   "metadata": {},
   "outputs": [
    {
     "data": {
      "image/png": "[encoded data removed]",
      "text/plain": [
       "<Figure size 432x288 with 1 Axes>"
      ]
     },
     "metadata": {
      "needs_background": "light"
     },
     "output_type": "display_data"
    }
   ],
   "source": [
    "x_values = pd.Series(range(0,len(data['count'])))\n",
    "plt.title('Order quantity scatterplot')\n",
    "plt.xlabel('User number')\n",
    "plt.ylabel('Number of completed orders')\n",
    "plt.scatter(x_values, data['count']);"
   ]
  },
  {
   "cell_type": "markdown",
   "metadata": {},
   "source": [
    "From the graph, you can see that in general, people made less than four orders. Mostly two or one. For complete reliability, let's calculate the percentiles."
   ]
  },
  {
   "cell_type": "code",
   "execution_count": 141,
   "metadata": {},
   "outputs": [
    {
     "data": {
      "text/plain": [
       "array([2., 3., 4.])"
      ]
     },
     "execution_count": 141,
     "metadata": {},
     "output_type": "execute_result"
    }
   ],
   "source": [
    "np.percentile(data['count'], [95,97.5,99])"
   ]
  },
  {
   "cell_type": "markdown",
   "metadata": {},
   "source": [
    "Thus, no more than 5% of users made more than two purchases, and no more than 1% made four purchases. (no more than 2.5% - 3 purchases). Let's designate our border for anomalous values by the number of orders at the level of 97.5 percentile"
   ]
  },
  {
   "cell_type": "code",
   "execution_count": 142,
   "metadata": {},
   "outputs": [],
   "source": [
    "order_limit = int(np.percentile(data['count'], [97.5])[0])"
   ]
  },
  {
   "cell_type": "code",
   "execution_count": 143,
   "metadata": {},
   "outputs": [
    {
     "data": {
      "image/png": "[encoded data removed]",
      "text/plain": [
       "<Figure size 432x288 with 1 Axes>"
      ]
     },
     "metadata": {
      "needs_background": "light"
     },
     "output_type": "display_data"
    }
   ],
   "source": [
    "x_values = pd.Series(range(0,len(orders['revenue'])))\n",
    "plt.title('Order value scatterplot')\n",
    "plt.xlabel('The number of the order')\n",
    "plt.ylabel('Order cost')\n",
    "plt.scatter(x_values, orders['revenue']);"
   ]
  },
  {
   "cell_type": "code",
   "execution_count": 144,
   "metadata": {},
   "outputs": [
    {
     "data": {
      "text/plain": [
       "array([28000. , 39530. , 58233.2])"
      ]
     },
     "execution_count": 144,
     "metadata": {},
     "output_type": "execute_result"
    }
   ],
   "source": [
    "np.percentile(orders['revenue'], [95, 97.5, 99])"
   ]
  },
  {
   "cell_type": "markdown",
   "metadata": {},
   "source": [
    "No more than five percent of all orders cost more than 28000 and no more than one percent - 58233.2."
   ]
  },
  {
   "cell_type": "markdown",
   "metadata": {},
   "source": [
    "Let us designate the border of anomalous values at the level of the 95th percentile"
   ]
  },
  {
   "cell_type": "code",
   "execution_count": 145,
   "metadata": {},
   "outputs": [],
   "source": [
    "revenue_limit = int(np.percentile(orders['revenue'], [95])[0])"
   ]
  },
  {
   "cell_type": "code",
   "execution_count": 146,
   "metadata": {},
   "outputs": [
    {
     "data": {
      "text/plain": [
       "(0.0, 58234.0)"
      ]
     },
     "execution_count": 146,
     "metadata": {},
     "output_type": "execute_result"
    },
    {
     "data": {
      "image/png": "[encoded data removed]",
      "text/plain": [
       "<Figure size 432x288 with 1 Axes>"
      ]
     },
     "metadata": {
      "needs_background": "light"
     },
     "output_type": "display_data"
    }
   ],
   "source": [
    "plt.title('Order value scatterplot')\n",
    "plt.xlabel('The number of the order')\n",
    "plt.ylabel('Order cost')\n",
    "plt.scatter(x_values, orders['revenue'])\n",
    "plt.ylim(0, 58234)"
   ]
  },
  {
   "cell_type": "markdown",
   "metadata": {},
   "source": [
    "**Summarize**: The 95th and 99th percentiles of average bills are 28,000 rubles and 58,233 rubles. And the 95th and 99th percentiles of orders per user are 2 and 4 orders per user"
   ]
  },
  {
   "cell_type": "markdown",
   "metadata": {},
   "source": [
    "Let's calculate the statistical significance of differences in the average number of orders and the statistical significance of differences in the average order receipt between groups according to \"raw\" data"
   ]
  },
  {
   "cell_type": "markdown",
   "metadata": {},
   "source": [
    "Let's formulate hypotheses. Zero: There is no difference in the average number of orders between groups. Alternative: there are differences in the average between groups."
   ]
  },
  {
   "cell_type": "code",
   "execution_count": 147,
   "metadata": {},
   "outputs": [
    {
     "name": "stdout",
     "output_type": "stream",
     "text": [
      "P-value: 0.01679\n",
      "Differences in the average number of orders: 0.138\n"
     ]
    }
   ],
   "source": [
    "ordersByUsersA = (\n",
    "    orders[orders['group'] == 'A']\n",
    "    .groupby('visitorId', as_index=False)\n",
    "    .agg({'transactionId': pd.Series.nunique})\n",
    ")\n",
    "ordersByUsersA.columns = ['visitorId', 'orders']\n",
    "\n",
    "ordersByUsersB = (\n",
    "    orders[orders['group'] == 'B']\n",
    "    .groupby('visitorId', as_index=False)\n",
    "    .agg({'transactionId': pd.Series.nunique})\n",
    ")\n",
    "ordersByUsersB.columns = ['visitorId', 'orders']\n",
    "\n",
    "visitorsA = visitors[visitors['group'] == 'A']['visitors'].sum()\n",
    "visitorsB = visitors[visitors['group'] == 'B']['visitors'].sum()\n",
    "\n",
    "sampleA = pd.concat(\n",
    "    [\n",
    "        ordersByUsersA['orders'],\n",
    "        pd.Series(\n",
    "            0,\n",
    "            index=np.arange(\n",
    "                visitorsA - len(ordersByUsersA['orders'])\n",
    "            ),\n",
    "            name='orders',\n",
    "        ),\n",
    "    ],\n",
    "    axis=0,\n",
    ")\n",
    "\n",
    "sampleB = pd.concat(\n",
    "    [\n",
    "        ordersByUsersB['orders'],\n",
    "        pd.Series(\n",
    "            0,\n",
    "            index=np.arange(\n",
    "                visitorsB - len(ordersByUsersB['orders'])\n",
    "            ),\n",
    "            name='orders',\n",
    "        ),\n",
    "    ],\n",
    "    axis=0,\n",
    ")\n",
    "\n",
    "print('P-value: '+ \"{0:.5f}\".format(stats.mannwhitneyu(sampleA, sampleB)[1]))\n",
    "\n",
    "print('Differences in the average number of orders: ' + \"{0:.3f}\".format(sampleB.mean() / sampleA.mean() - 1))"
   ]
  },
  {
   "cell_type": "markdown",
   "metadata": {},
   "source": [
    "Conclusion: According to the \"raw\" data, there are differences in the average number of orders for groups A and B. The first number - p-value = 0.017 is less than 0.05. Hence, we reject the null hypothesis that there are no statistically significant differences in the average number of orders between groups.\n",
    "The relative gain of group B is 13.8% (second number in the output)"
   ]
  },
  {
   "cell_type": "markdown",
   "metadata": {},
   "source": [
    "Now let's check the statistical significance of differences in the average check between segments. Null hypothesis: there are no differences in the average check between groups. Alternative hypothesis: there are differences in the average bill between groups."
   ]
  },
  {
   "cell_type": "code",
   "execution_count": 148,
   "metadata": {},
   "outputs": [
    {
     "name": "stdout",
     "output_type": "stream",
     "text": [
      "P-value: 0.72929\n",
      "The difference in the average check: 0.259\n"
     ]
    }
   ],
   "source": [
    "print('P-value: '+'{0:.5f}'.format(stats.mannwhitneyu(orders[orders['group']=='A']['revenue'], orders[orders['group']=='B']['revenue'])[1]))\n",
    "print('The difference in the average check: ' +'{0:.3f}'.format(orders[orders['group']=='B']['revenue'].mean()/orders[orders['group']=='A']['revenue'].mean()-1))"
   ]
  },
  {
   "cell_type": "markdown",
   "metadata": {},
   "source": [
    "The p-value is significantly greater than 0.05, which means there is no reason to reject the null hypothesis and believe that there are differences in the average check. The average check of group B is significantly (26%) higher than the average check of group A.\n",
    "\n",
    "The insignificance of this difference can be explained by the presence of a \"spike\" - anomalous values in the data of the average check"
   ]
  },
  {
   "cell_type": "markdown",
   "metadata": {},
   "source": [
    "(*95th and 99th percentiles of average checks are equal to 28,000 rubles and 58,233 rubles. And the 95th and 99th percentiles of the number of orders per user are equal to 2 and 4 orders per user.*)\n",
    "\n",
    "Let's see how many anomalous users there are. We will assume that these are users who have made more than three orders and orders whose cost is more than 28,000 rubles"
   ]
  },
  {
   "cell_type": "code",
   "execution_count": 149,
   "metadata": {},
   "outputs": [
    {
     "name": "stdout",
     "output_type": "stream",
     "text": [
      "1099    148427295\n",
      "18      199603092\n",
      "928     204675465\n",
      "23      237748145\n",
      "684     358944393\n",
      "Name: visitorId, dtype: int64\n",
      "63\n"
     ]
    }
   ],
   "source": [
    "usersWithManyOrders = pd.concat(\n",
    "    [\n",
    "        ordersByUsersA[ordersByUsersA['orders'] > order_limit]['visitorId'],\n",
    "        ordersByUsersB[ordersByUsersB['orders'] > order_limit]['visitorId'],\n",
    "    ],\n",
    "    axis=0,\n",
    ")\n",
    "usersWithExpensiveOrders = orders[orders['revenue'] > revenue_limit]['visitorId']\n",
    "abnormalUsers = (\n",
    "    pd.concat([usersWithManyOrders, usersWithExpensiveOrders], axis=0)\n",
    "    .drop_duplicates()\n",
    "    .sort_values()\n",
    ")\n",
    "print(abnormalUsers.head(5))\n",
    "print(abnormalUsers.shape[0]) "
   ]
  },
  {
   "cell_type": "markdown",
   "metadata": {},
   "source": [
    "There are 63 anomalous users in total. Let's get rid of them"
   ]
  },
  {
   "cell_type": "code",
   "execution_count": 150,
   "metadata": {},
   "outputs": [],
   "source": [
    "sampleAFiltered = pd.concat(\n",
    "    [\n",
    "        ordersByUsersA[\n",
    "            np.logical_not(ordersByUsersA['visitorId'].isin(abnormalUsers))\n",
    "        ]['orders'],\n",
    "        pd.Series(\n",
    "            0,\n",
    "            index=np.arange(\n",
    "                visitorsA - len(ordersByUsersA['orders'])\n",
    "            ),\n",
    "            name='orders',\n",
    "        ),\n",
    "    ],\n",
    "    axis=0,\n",
    ")\n",
    "\n",
    "sampleBFiltered = pd.concat(\n",
    "    [\n",
    "        ordersByUsersB[\n",
    "            np.logical_not(ordersByUsersB['visitorId'].isin(abnormalUsers))\n",
    "        ]['orders'],\n",
    "        pd.Series(\n",
    "            0,\n",
    "            index=np.arange(\n",
    "                visitorsB - len(ordersByUsersB['orders'])\n",
    "            ),\n",
    "            name='orders',\n",
    "        ),\n",
    "    ],\n",
    "    axis=0,\n",
    ")"
   ]
  },
  {
   "cell_type": "markdown",
   "metadata": {},
   "source": [
    "Let us again denote the null and alternative hypotheses\n",
    "\n",
    "*H0*: There is no difference in the average number of orders between groups.\n",
    "\n",
    "*H1*: There are mean differences between the groups."
   ]
  },
  {
   "cell_type": "code",
   "execution_count": 151,
   "metadata": {},
   "outputs": [
    {
     "name": "stdout",
     "output_type": "stream",
     "text": [
      "P-value: 0.017943\n",
      "The difference in the average number of orders 0.148\n"
     ]
    }
   ],
   "source": [
    "print('P-value: '+'{0:5f}'.format(stats.mannwhitneyu(sampleAFiltered, sampleBFiltered)[1]))\n",
    "print('The difference in the average number of orders ' +'{0:.3f}'.format(sampleBFiltered.mean()/sampleAFiltered.mean()-1))"
   ]
  },
  {
   "cell_type": "markdown",
   "metadata": {},
   "source": [
    "The results for the average number of orders have not changed, the p-value is also below 0.05, that is, the null hypothesis about the absence of statistically significant differences in the average number of orders is rejected. At the same time, the relative gain of group B increased to 14.8%"
   ]
  },
  {
   "cell_type": "markdown",
   "metadata": {},
   "source": [
    "And the following two hypotheses\n",
    "\n",
    "*Null hypothesis*: there are no differences in the average check between groups\n",
    "\n",
    "*Alternative hypothesis*: there are differences in the average check between groups."
   ]
  },
  {
   "cell_type": "code",
   "execution_count": 152,
   "metadata": {},
   "outputs": [
    {
     "name": "stdout",
     "output_type": "stream",
     "text": [
      "P-value: 0.97653\n",
      "Differences in the average check -0.017\n"
     ]
    }
   ],
   "source": [
    "print('P-value: '+\n",
    "    '{0:.5f}'.format(\n",
    "        stats.mannwhitneyu(\n",
    "            orders[\n",
    "                np.logical_and(\n",
    "                    orders['group'] == 'A',\n",
    "                    np.logical_not(orders['visitorId'].isin(abnormalUsers)),\n",
    "                )\n",
    "            ]['revenue'],\n",
    "            orders[\n",
    "                np.logical_and(\n",
    "                    orders['group'] == 'B',\n",
    "                    np.logical_not(orders['visitorId'].isin(abnormalUsers)),\n",
    "                )\n",
    "            ]['revenue'],\n",
    "        )[1]\n",
    "    )\n",
    ")\n",
    "\n",
    "print('Differences in the average check ' +\n",
    "    \"{0:.3f}\".format(\n",
    "        orders[\n",
    "            np.logical_and(\n",
    "                orders['group'] == 'B',\n",
    "                np.logical_not(orders['visitorId'].isin(abnormalUsers)),\n",
    "            )\n",
    "        ]['revenue'].mean()\n",
    "        / orders[\n",
    "            np.logical_and(\n",
    "                orders['group'] == 'A',\n",
    "                np.logical_not(orders['visitorId'].isin(abnormalUsers)),\n",
    "            )\n",
    "        ]['revenue'].mean()\n",
    "        - 1\n",
    "    )\n",
    ")"
   ]
  },
  {
   "cell_type": "markdown",
   "metadata": {},
   "source": [
    "The p-value is also significantly greater than 0.05, which means there is no reason to reject the null hypothesis and assume that there are differences in the average check.\n",
    "\n",
    "However, now the average check of group B has approached the average check of group A, even turned out to be 2% lower"
   ]
  },
  {
   "cell_type": "markdown",
   "metadata": {},
   "source": [
    "### Сonclusion<a id='conclusion'></a>"
   ]
  },
  {
   "cell_type": "markdown",
   "metadata": {},
   "source": [
    "The highest priority hypotheses based on the results of both methods are the seventh, zero and sixth hypotheses"
   ]
  },
  {
   "cell_type": "markdown",
   "metadata": {},
   "source": [
    "In the analysis of the results of the A / B test, it was revealed:\n",
    "- There are statistically significant differences in the average number of orders between groups for both raw and data after filtering out anomalies.;\n",
    "- There is no statistically significant difference in the average check between the groups, neither according to the \"raw\" nor according to the data after filtering out anomalies;\n",
    "- A graph showing the difference in conversion between groups shows that group B performed significantly better than group A.\n",
    "- The graph of the difference in the average check shows that the results of group B are deteriorating day by day, but are now at about 30%\n"
   ]
  },
  {
   "cell_type": "markdown",
   "metadata": {},
   "source": [
    "Thus, it is necessary to stop the test, recognize it as successful and move on to testing the next hypothesis."
   ]
  }
 ],
 "metadata": {
  "ExecuteTimeLog": [
   {
    "duration": 432,
    "start_time": "2022-11-03T21:18:26.810Z"
   },
   {
    "duration": 70,
    "start_time": "2022-11-03T21:19:17.651Z"
   },
   {
    "duration": 4,
    "start_time": "2022-11-03T21:27:05.954Z"
   },
   {
    "duration": 5,
    "start_time": "2022-11-03T21:27:14.910Z"
   },
   {
    "duration": 3,
    "start_time": "2022-11-03T21:27:25.389Z"
   },
   {
    "duration": 15,
    "start_time": "2022-11-03T21:28:15.137Z"
   },
   {
    "duration": 13,
    "start_time": "2022-11-03T21:28:50.946Z"
   },
   {
    "duration": 5,
    "start_time": "2022-11-03T21:32:07.260Z"
   },
   {
    "duration": 86,
    "start_time": "2022-11-03T21:32:28.483Z"
   },
   {
    "duration": 14,
    "start_time": "2022-11-03T21:32:40.633Z"
   },
   {
    "duration": 50,
    "start_time": "2022-11-03T21:34:07.486Z"
   },
   {
    "duration": 90,
    "start_time": "2022-11-03T21:56:50.793Z"
   },
   {
    "duration": 62,
    "start_time": "2022-11-03T21:56:55.703Z"
   },
   {
    "duration": 80,
    "start_time": "2022-11-03T21:57:40.538Z"
   },
   {
    "duration": 56,
    "start_time": "2022-11-03T21:58:48.137Z"
   },
   {
    "duration": 60,
    "start_time": "2022-11-03T21:58:55.337Z"
   },
   {
    "duration": 29,
    "start_time": "2022-11-03T23:01:36.113Z"
   },
   {
    "duration": 34,
    "start_time": "2022-11-03T23:01:48.341Z"
   },
   {
    "duration": 32,
    "start_time": "2022-11-03T23:02:04.065Z"
   },
   {
    "duration": 2,
    "start_time": "2022-11-03T23:02:26.501Z"
   },
   {
    "duration": 4,
    "start_time": "2022-11-04T00:11:42.309Z"
   },
   {
    "duration": 5,
    "start_time": "2022-11-04T00:11:46.640Z"
   },
   {
    "duration": 5,
    "start_time": "2022-11-04T00:13:20.507Z"
   },
   {
    "duration": 48,
    "start_time": "2022-11-04T19:34:40.893Z"
   },
   {
    "duration": 323,
    "start_time": "2022-11-04T19:34:52.367Z"
   },
   {
    "duration": 84,
    "start_time": "2022-11-04T19:34:52.692Z"
   },
   {
    "duration": 4,
    "start_time": "2022-11-04T19:34:52.777Z"
   },
   {
    "duration": 13,
    "start_time": "2022-11-04T19:34:52.783Z"
   },
   {
    "duration": 11,
    "start_time": "2022-11-04T19:34:52.798Z"
   },
   {
    "duration": 4,
    "start_time": "2022-11-04T19:34:52.810Z"
   },
   {
    "duration": 98,
    "start_time": "2022-11-04T19:34:52.816Z"
   },
   {
    "duration": 66,
    "start_time": "2022-11-04T19:36:47.672Z"
   },
   {
    "duration": 72,
    "start_time": "2022-11-04T19:40:04.409Z"
   },
   {
    "duration": 36,
    "start_time": "2022-11-04T19:40:19.909Z"
   },
   {
    "duration": 6,
    "start_time": "2022-11-04T19:40:58.399Z"
   },
   {
    "duration": 442,
    "start_time": "2022-11-05T13:38:40.769Z"
   },
   {
    "duration": 67,
    "start_time": "2022-11-05T13:38:41.213Z"
   },
   {
    "duration": 3,
    "start_time": "2022-11-05T13:38:41.282Z"
   },
   {
    "duration": 35,
    "start_time": "2022-11-05T13:38:41.286Z"
   },
   {
    "duration": 13,
    "start_time": "2022-11-05T13:38:41.323Z"
   },
   {
    "duration": 26,
    "start_time": "2022-11-05T13:38:41.337Z"
   },
   {
    "duration": 110,
    "start_time": "2022-11-05T13:38:41.364Z"
   },
   {
    "duration": 65,
    "start_time": "2022-11-05T13:38:41.476Z"
   },
   {
    "duration": 92,
    "start_time": "2022-11-05T13:38:41.543Z"
   },
   {
    "duration": 30,
    "start_time": "2022-11-05T13:39:25.522Z"
   },
   {
    "duration": 277,
    "start_time": "2022-11-05T13:41:08.151Z"
   },
   {
    "duration": 13,
    "start_time": "2022-11-05T13:43:43.806Z"
   },
   {
    "duration": 391,
    "start_time": "2022-11-05T13:44:08.405Z"
   },
   {
    "duration": 260,
    "start_time": "2022-11-05T13:44:11.913Z"
   },
   {
    "duration": 157,
    "start_time": "2022-11-05T13:44:59.342Z"
   },
   {
    "duration": 13,
    "start_time": "2022-11-05T13:45:10.886Z"
   },
   {
    "duration": 171,
    "start_time": "2022-11-05T13:46:16.127Z"
   },
   {
    "duration": 251,
    "start_time": "2022-11-05T13:47:30.922Z"
   },
   {
    "duration": 268,
    "start_time": "2022-11-05T13:47:40.018Z"
   },
   {
    "duration": 45,
    "start_time": "2022-11-05T13:47:55.116Z"
   },
   {
    "duration": 167,
    "start_time": "2022-11-05T13:48:09.315Z"
   },
   {
    "duration": 146,
    "start_time": "2022-11-05T13:48:56.200Z"
   },
   {
    "duration": 294,
    "start_time": "2022-11-05T13:49:02.546Z"
   },
   {
    "duration": 216,
    "start_time": "2022-11-05T13:49:19.813Z"
   },
   {
    "duration": 161,
    "start_time": "2022-11-05T13:49:29.088Z"
   },
   {
    "duration": 170,
    "start_time": "2022-11-05T13:54:48.685Z"
   },
   {
    "duration": 327,
    "start_time": "2022-11-05T13:57:30.598Z"
   },
   {
    "duration": 197,
    "start_time": "2022-11-05T14:03:53.314Z"
   },
   {
    "duration": 271,
    "start_time": "2022-11-05T14:05:36.207Z"
   },
   {
    "duration": 281,
    "start_time": "2022-11-05T14:06:06.639Z"
   },
   {
    "duration": 229,
    "start_time": "2022-11-05T14:06:24.478Z"
   },
   {
    "duration": 189,
    "start_time": "2022-11-05T14:06:54.681Z"
   },
   {
    "duration": 185,
    "start_time": "2022-11-05T14:07:07.655Z"
   },
   {
    "duration": 169,
    "start_time": "2022-11-05T14:08:05.271Z"
   },
   {
    "duration": 171,
    "start_time": "2022-11-05T14:22:39.741Z"
   },
   {
    "duration": 180,
    "start_time": "2022-11-05T14:23:05.801Z"
   },
   {
    "duration": 150,
    "start_time": "2022-11-05T14:24:04.122Z"
   },
   {
    "duration": 163,
    "start_time": "2022-11-05T14:24:29.506Z"
   },
   {
    "duration": 173,
    "start_time": "2022-11-05T14:26:28.604Z"
   },
   {
    "duration": 254,
    "start_time": "2022-11-05T14:27:33.057Z"
   },
   {
    "duration": 184,
    "start_time": "2022-11-05T14:28:44.631Z"
   },
   {
    "duration": 359,
    "start_time": "2022-11-05T14:35:30.390Z"
   },
   {
    "duration": 263,
    "start_time": "2022-11-05T14:35:39.260Z"
   },
   {
    "duration": 148,
    "start_time": "2022-11-05T14:39:45.877Z"
   },
   {
    "duration": 256,
    "start_time": "2022-11-05T14:40:03.922Z"
   },
   {
    "duration": 282,
    "start_time": "2022-11-05T14:40:19.468Z"
   },
   {
    "duration": 259,
    "start_time": "2022-11-05T14:40:27.741Z"
   },
   {
    "duration": 264,
    "start_time": "2022-11-05T14:40:44.726Z"
   },
   {
    "duration": 190,
    "start_time": "2022-11-05T14:40:52.877Z"
   },
   {
    "duration": 255,
    "start_time": "2022-11-05T14:41:02.937Z"
   },
   {
    "duration": 297,
    "start_time": "2022-11-05T14:41:07.827Z"
   },
   {
    "duration": 201,
    "start_time": "2022-11-05T14:41:16.508Z"
   },
   {
    "duration": 169,
    "start_time": "2022-11-05T14:41:23.947Z"
   },
   {
    "duration": 186,
    "start_time": "2022-11-05T14:41:45.370Z"
   },
   {
    "duration": 188,
    "start_time": "2022-11-05T14:42:05.469Z"
   },
   {
    "duration": 16,
    "start_time": "2022-11-05T15:38:34.563Z"
   },
   {
    "duration": 6,
    "start_time": "2022-11-05T15:39:15.793Z"
   },
   {
    "duration": 11,
    "start_time": "2022-11-05T15:39:20.544Z"
   },
   {
    "duration": 194,
    "start_time": "2022-11-05T15:40:44.100Z"
   },
   {
    "duration": 3,
    "start_time": "2022-11-05T15:48:27.764Z"
   },
   {
    "duration": 5,
    "start_time": "2022-11-05T15:48:30.498Z"
   },
   {
    "duration": 116,
    "start_time": "2022-11-05T17:49:45.832Z"
   },
   {
    "duration": 113,
    "start_time": "2022-11-05T17:50:20.152Z"
   },
   {
    "duration": 114,
    "start_time": "2022-11-05T17:50:28.642Z"
   },
   {
    "duration": 10,
    "start_time": "2022-11-05T17:51:47.052Z"
   },
   {
    "duration": 11,
    "start_time": "2022-11-05T17:52:03.919Z"
   },
   {
    "duration": 12,
    "start_time": "2022-11-05T17:52:13.612Z"
   },
   {
    "duration": 10,
    "start_time": "2022-11-05T17:52:22.381Z"
   },
   {
    "duration": 10,
    "start_time": "2022-11-05T17:52:27.677Z"
   },
   {
    "duration": 9,
    "start_time": "2022-11-05T17:54:40.290Z"
   },
   {
    "duration": 11,
    "start_time": "2022-11-05T17:55:50.038Z"
   },
   {
    "duration": 15,
    "start_time": "2022-11-05T17:56:18.311Z"
   },
   {
    "duration": 14,
    "start_time": "2022-11-05T17:56:34.090Z"
   },
   {
    "duration": 5,
    "start_time": "2022-11-05T17:56:42.473Z"
   },
   {
    "duration": 108,
    "start_time": "2022-11-05T17:57:01.724Z"
   },
   {
    "duration": 15,
    "start_time": "2022-11-05T17:59:25.922Z"
   },
   {
    "duration": 42,
    "start_time": "2022-11-05T17:59:30.127Z"
   },
   {
    "duration": 10,
    "start_time": "2022-11-05T17:59:33.530Z"
   },
   {
    "duration": 10,
    "start_time": "2022-11-05T18:01:14.408Z"
   },
   {
    "duration": 11,
    "start_time": "2022-11-05T18:15:17.843Z"
   },
   {
    "duration": 103,
    "start_time": "2022-11-05T18:15:23.420Z"
   },
   {
    "duration": 5,
    "start_time": "2022-11-05T18:15:27.135Z"
   },
   {
    "duration": 10,
    "start_time": "2022-11-05T18:25:48.220Z"
   },
   {
    "duration": 102,
    "start_time": "2022-11-05T18:25:57.018Z"
   },
   {
    "duration": 5,
    "start_time": "2022-11-05T18:26:00.430Z"
   },
   {
    "duration": 107,
    "start_time": "2022-11-05T18:27:55.109Z"
   },
   {
    "duration": 116,
    "start_time": "2022-11-05T18:29:40.724Z"
   },
   {
    "duration": 598,
    "start_time": "2022-11-05T18:29:54.771Z"
   },
   {
    "duration": 119,
    "start_time": "2022-11-05T18:30:07.102Z"
   },
   {
    "duration": 5,
    "start_time": "2022-11-05T18:31:04.754Z"
   },
   {
    "duration": 151,
    "start_time": "2022-11-05T18:31:27.833Z"
   },
   {
    "duration": 132,
    "start_time": "2022-11-05T18:31:39.182Z"
   },
   {
    "duration": 128,
    "start_time": "2022-11-05T18:32:00.676Z"
   },
   {
    "duration": 117,
    "start_time": "2022-11-05T18:32:12.866Z"
   },
   {
    "duration": 98,
    "start_time": "2022-11-05T18:39:55.021Z"
   },
   {
    "duration": 96,
    "start_time": "2022-11-05T18:41:14.600Z"
   },
   {
    "duration": 213,
    "start_time": "2022-11-05T18:42:26.109Z"
   },
   {
    "duration": 143,
    "start_time": "2022-11-05T18:44:25.674Z"
   },
   {
    "duration": 515,
    "start_time": "2022-11-05T18:45:13.916Z"
   },
   {
    "duration": 154,
    "start_time": "2022-11-05T18:45:18.358Z"
   },
   {
    "duration": 9,
    "start_time": "2022-11-05T19:01:42.057Z"
   },
   {
    "duration": 820,
    "start_time": "2022-11-05T19:14:21.962Z"
   },
   {
    "duration": 676,
    "start_time": "2022-11-05T19:14:26.103Z"
   },
   {
    "duration": 723,
    "start_time": "2022-11-05T19:15:07.108Z"
   },
   {
    "duration": 817,
    "start_time": "2022-11-05T19:15:41.877Z"
   },
   {
    "duration": 798,
    "start_time": "2022-11-05T19:16:08.176Z"
   },
   {
    "duration": 736,
    "start_time": "2022-11-05T19:16:31.689Z"
   },
   {
    "duration": 158,
    "start_time": "2022-11-05T19:17:28.619Z"
   },
   {
    "duration": 9,
    "start_time": "2022-11-05T19:17:41.302Z"
   },
   {
    "duration": 9,
    "start_time": "2022-11-05T19:18:59.888Z"
   },
   {
    "duration": 809,
    "start_time": "2022-11-05T19:19:09.992Z"
   },
   {
    "duration": 10,
    "start_time": "2022-11-05T19:19:31.313Z"
   },
   {
    "duration": 22,
    "start_time": "2022-11-05T19:19:48.225Z"
   },
   {
    "duration": 14,
    "start_time": "2022-11-05T19:22:02.931Z"
   },
   {
    "duration": 8,
    "start_time": "2022-11-05T19:28:58.148Z"
   },
   {
    "duration": 9,
    "start_time": "2022-11-05T19:29:04.568Z"
   },
   {
    "duration": 9,
    "start_time": "2022-11-05T19:29:11.374Z"
   },
   {
    "duration": 7,
    "start_time": "2022-11-05T19:29:14.783Z"
   },
   {
    "duration": 46,
    "start_time": "2022-11-05T20:20:50.284Z"
   },
   {
    "duration": 441,
    "start_time": "2022-11-05T20:23:49.785Z"
   },
   {
    "duration": 39,
    "start_time": "2022-11-05T20:23:50.227Z"
   },
   {
    "duration": 3,
    "start_time": "2022-11-05T20:23:50.268Z"
   },
   {
    "duration": 22,
    "start_time": "2022-11-05T20:23:50.274Z"
   },
   {
    "duration": 10,
    "start_time": "2022-11-05T20:23:50.298Z"
   },
   {
    "duration": 746,
    "start_time": "2022-11-05T20:23:50.310Z"
   },
   {
    "duration": 58,
    "start_time": "2022-11-05T20:23:51.058Z"
   },
   {
    "duration": 23,
    "start_time": "2022-11-05T20:23:51.117Z"
   },
   {
    "duration": 284,
    "start_time": "2022-11-05T20:23:51.142Z"
   },
   {
    "duration": 281,
    "start_time": "2022-11-05T20:23:51.429Z"
   },
   {
    "duration": 202,
    "start_time": "2022-11-05T20:23:51.712Z"
   },
   {
    "duration": 288,
    "start_time": "2022-11-05T20:23:51.915Z"
   },
   {
    "duration": 207,
    "start_time": "2022-11-05T20:23:52.209Z"
   },
   {
    "duration": 353,
    "start_time": "2022-11-05T20:23:52.417Z"
   },
   {
    "duration": 12,
    "start_time": "2022-11-05T20:23:52.771Z"
   },
   {
    "duration": 137,
    "start_time": "2022-11-05T20:23:52.785Z"
   },
   {
    "duration": 5,
    "start_time": "2022-11-05T20:23:52.923Z"
   },
   {
    "duration": 147,
    "start_time": "2022-11-05T20:23:52.929Z"
   },
   {
    "duration": 5,
    "start_time": "2022-11-05T20:23:53.078Z"
   },
   {
    "duration": 159,
    "start_time": "2022-11-05T20:23:53.084Z"
   },
   {
    "duration": 281,
    "start_time": "2022-11-05T20:23:53.244Z"
   },
   {
    "duration": 170,
    "start_time": "2022-11-05T20:23:53.527Z"
   },
   {
    "duration": 18,
    "start_time": "2022-11-05T20:23:53.698Z"
   },
   {
    "duration": 63,
    "start_time": "2022-11-05T20:23:53.717Z"
   },
   {
    "duration": 38,
    "start_time": "2022-11-05T20:23:53.782Z"
   },
   {
    "duration": 50,
    "start_time": "2022-11-05T20:23:53.822Z"
   },
   {
    "duration": 19,
    "start_time": "2022-11-05T20:23:53.874Z"
   },
   {
    "duration": 420,
    "start_time": "2022-11-06T08:11:48.090Z"
   },
   {
    "duration": 78,
    "start_time": "2022-11-06T08:11:48.513Z"
   },
   {
    "duration": 3,
    "start_time": "2022-11-06T08:11:48.593Z"
   },
   {
    "duration": 26,
    "start_time": "2022-11-06T08:11:48.598Z"
   },
   {
    "duration": 12,
    "start_time": "2022-11-06T08:11:48.626Z"
   },
   {
    "duration": 944,
    "start_time": "2022-11-06T08:11:48.640Z"
   },
   {
    "duration": 114,
    "start_time": "2022-11-06T08:11:49.586Z"
   },
   {
    "duration": 62,
    "start_time": "2022-11-06T08:11:49.702Z"
   },
   {
    "duration": 289,
    "start_time": "2022-11-06T08:11:49.766Z"
   },
   {
    "duration": 285,
    "start_time": "2022-11-06T08:11:50.057Z"
   },
   {
    "duration": 203,
    "start_time": "2022-11-06T08:11:50.344Z"
   },
   {
    "duration": 312,
    "start_time": "2022-11-06T08:11:50.549Z"
   },
   {
    "duration": 201,
    "start_time": "2022-11-06T08:11:50.863Z"
   },
   {
    "duration": 275,
    "start_time": "2022-11-06T08:11:51.066Z"
   },
   {
    "duration": 10,
    "start_time": "2022-11-06T08:11:51.343Z"
   },
   {
    "duration": 120,
    "start_time": "2022-11-06T08:11:51.355Z"
   },
   {
    "duration": 5,
    "start_time": "2022-11-06T08:11:51.476Z"
   },
   {
    "duration": 139,
    "start_time": "2022-11-06T08:11:51.483Z"
   },
   {
    "duration": 5,
    "start_time": "2022-11-06T08:11:51.623Z"
   },
   {
    "duration": 205,
    "start_time": "2022-11-06T08:11:51.630Z"
   },
   {
    "duration": 217,
    "start_time": "2022-11-06T08:11:51.837Z"
   },
   {
    "duration": 152,
    "start_time": "2022-11-06T08:11:52.056Z"
   },
   {
    "duration": 15,
    "start_time": "2022-11-06T08:11:52.210Z"
   },
   {
    "duration": 9,
    "start_time": "2022-11-06T08:11:52.227Z"
   },
   {
    "duration": 12,
    "start_time": "2022-11-06T08:11:52.237Z"
   },
   {
    "duration": 36,
    "start_time": "2022-11-06T08:11:52.250Z"
   },
   {
    "duration": 12,
    "start_time": "2022-11-06T08:11:52.288Z"
   },
   {
    "duration": 48,
    "start_time": "2022-11-06T10:26:30.889Z"
   },
   {
    "duration": 406,
    "start_time": "2022-11-06T10:26:33.442Z"
   },
   {
    "duration": 75,
    "start_time": "2022-11-06T10:26:35.081Z"
   },
   {
    "duration": 745,
    "start_time": "2022-11-06T10:30:17.900Z"
   },
   {
    "duration": 4,
    "start_time": "2022-11-06T10:30:25.519Z"
   },
   {
    "duration": 7,
    "start_time": "2022-11-06T10:30:28.254Z"
   },
   {
    "duration": 11,
    "start_time": "2022-11-06T10:30:39.033Z"
   },
   {
    "duration": 10,
    "start_time": "2022-11-06T10:30:49.498Z"
   },
   {
    "duration": 10,
    "start_time": "2022-11-06T10:30:52.800Z"
   },
   {
    "duration": 10,
    "start_time": "2022-11-06T10:32:00.668Z"
   },
   {
    "duration": 3,
    "start_time": "2022-11-06T10:32:08.555Z"
   },
   {
    "duration": 36,
    "start_time": "2022-11-06T10:32:08.560Z"
   },
   {
    "duration": 3,
    "start_time": "2022-11-06T10:32:08.597Z"
   },
   {
    "duration": 15,
    "start_time": "2022-11-06T10:32:08.601Z"
   },
   {
    "duration": 16,
    "start_time": "2022-11-06T10:32:08.618Z"
   },
   {
    "duration": 9,
    "start_time": "2022-11-06T10:32:14.504Z"
   },
   {
    "duration": 9,
    "start_time": "2022-11-06T10:33:01.665Z"
   },
   {
    "duration": 9,
    "start_time": "2022-11-06T10:33:13.974Z"
   },
   {
    "duration": 913,
    "start_time": "2022-11-06T10:33:33.139Z"
   },
   {
    "duration": 222,
    "start_time": "2022-11-06T10:33:37.721Z"
   },
   {
    "duration": 34,
    "start_time": "2022-11-06T10:36:51.754Z"
   },
   {
    "duration": 902,
    "start_time": "2022-11-06T10:36:56.940Z"
   },
   {
    "duration": 817,
    "start_time": "2022-11-06T10:37:00.380Z"
   },
   {
    "duration": 3,
    "start_time": "2022-11-06T10:37:06.387Z"
   },
   {
    "duration": 12,
    "start_time": "2022-11-06T10:37:08.759Z"
   },
   {
    "duration": 12,
    "start_time": "2022-11-06T10:38:40.862Z"
   },
   {
    "duration": 114,
    "start_time": "2022-11-06T10:42:28.856Z"
   },
   {
    "duration": 82,
    "start_time": "2022-11-06T11:57:27.934Z"
   },
   {
    "duration": 50,
    "start_time": "2022-11-06T11:57:37.651Z"
   },
   {
    "duration": 65,
    "start_time": "2022-11-06T11:57:41.778Z"
   },
   {
    "duration": 66,
    "start_time": "2022-11-06T11:57:48.529Z"
   },
   {
    "duration": 7,
    "start_time": "2022-11-06T12:31:02.626Z"
   },
   {
    "duration": 13,
    "start_time": "2022-11-06T12:31:29.675Z"
   },
   {
    "duration": 12,
    "start_time": "2022-11-06T12:31:34.984Z"
   },
   {
    "duration": 10,
    "start_time": "2022-11-06T12:31:37.719Z"
   },
   {
    "duration": 7,
    "start_time": "2022-11-06T12:31:51.832Z"
   },
   {
    "duration": 70,
    "start_time": "2022-11-06T12:42:00.431Z"
   },
   {
    "duration": 46,
    "start_time": "2022-11-06T12:45:59.644Z"
   },
   {
    "duration": 4,
    "start_time": "2022-11-06T12:46:44.034Z"
   },
   {
    "duration": 5,
    "start_time": "2022-11-06T12:48:08.897Z"
   },
   {
    "duration": 5,
    "start_time": "2022-11-06T12:54:21.192Z"
   },
   {
    "duration": 9,
    "start_time": "2022-11-06T12:54:53.402Z"
   },
   {
    "duration": 46,
    "start_time": "2022-11-06T12:55:46.209Z"
   },
   {
    "duration": 54,
    "start_time": "2022-11-06T12:55:59.924Z"
   },
   {
    "duration": 45,
    "start_time": "2022-11-06T12:56:09.904Z"
   },
   {
    "duration": 49,
    "start_time": "2022-11-06T12:56:19.235Z"
   },
   {
    "duration": 43,
    "start_time": "2022-11-06T12:56:25.688Z"
   },
   {
    "duration": 12,
    "start_time": "2022-11-06T12:56:34.557Z"
   },
   {
    "duration": 11,
    "start_time": "2022-11-06T12:57:33.639Z"
   },
   {
    "duration": 10,
    "start_time": "2022-11-06T12:57:35.788Z"
   },
   {
    "duration": 13,
    "start_time": "2022-11-06T12:58:05.466Z"
   },
   {
    "duration": 12,
    "start_time": "2022-11-06T12:58:15.883Z"
   },
   {
    "duration": 12,
    "start_time": "2022-11-06T12:58:59.704Z"
   },
   {
    "duration": 14,
    "start_time": "2022-11-06T12:59:08.669Z"
   },
   {
    "duration": 16,
    "start_time": "2022-11-06T12:59:45.142Z"
   },
   {
    "duration": 15,
    "start_time": "2022-11-06T12:59:50.290Z"
   },
   {
    "duration": 12,
    "start_time": "2022-11-06T13:00:24.210Z"
   },
   {
    "duration": 8,
    "start_time": "2022-11-06T13:00:41.473Z"
   },
   {
    "duration": 8,
    "start_time": "2022-11-06T13:00:47.481Z"
   },
   {
    "duration": 16,
    "start_time": "2022-11-06T13:01:44.304Z"
   },
   {
    "duration": 10,
    "start_time": "2022-11-06T13:02:00.820Z"
   },
   {
    "duration": 12,
    "start_time": "2022-11-06T13:02:10.194Z"
   },
   {
    "duration": 9,
    "start_time": "2022-11-06T13:03:04.220Z"
   },
   {
    "duration": 7,
    "start_time": "2022-11-06T13:08:20.669Z"
   },
   {
    "duration": 9,
    "start_time": "2022-11-06T13:08:25.752Z"
   },
   {
    "duration": 12,
    "start_time": "2022-11-06T13:09:47.764Z"
   },
   {
    "duration": 11,
    "start_time": "2022-11-06T13:09:52.860Z"
   },
   {
    "duration": 11,
    "start_time": "2022-11-06T13:10:20.314Z"
   },
   {
    "duration": 12,
    "start_time": "2022-11-06T13:11:18.061Z"
   },
   {
    "duration": 12,
    "start_time": "2022-11-06T13:11:31.244Z"
   },
   {
    "duration": 12,
    "start_time": "2022-11-06T13:11:38.048Z"
   },
   {
    "duration": 11,
    "start_time": "2022-11-06T13:11:48.986Z"
   },
   {
    "duration": 12,
    "start_time": "2022-11-06T13:11:55.646Z"
   },
   {
    "duration": 12,
    "start_time": "2022-11-06T13:12:01.606Z"
   },
   {
    "duration": 9,
    "start_time": "2022-11-06T14:02:30.493Z"
   },
   {
    "duration": 8,
    "start_time": "2022-11-06T14:02:56.319Z"
   },
   {
    "duration": 10,
    "start_time": "2022-11-06T14:03:31.068Z"
   },
   {
    "duration": 12,
    "start_time": "2022-11-06T14:03:48.073Z"
   },
   {
    "duration": 12,
    "start_time": "2022-11-06T14:04:14.777Z"
   },
   {
    "duration": 11,
    "start_time": "2022-11-06T14:04:23.812Z"
   },
   {
    "duration": 48,
    "start_time": "2022-11-06T14:05:28.884Z"
   },
   {
    "duration": 45,
    "start_time": "2022-11-06T14:05:33.248Z"
   },
   {
    "duration": 14,
    "start_time": "2022-11-06T14:05:47.044Z"
   },
   {
    "duration": 12,
    "start_time": "2022-11-06T14:05:56.699Z"
   },
   {
    "duration": 12,
    "start_time": "2022-11-06T14:06:16.610Z"
   },
   {
    "duration": 47,
    "start_time": "2022-11-06T14:08:18.182Z"
   },
   {
    "duration": 53,
    "start_time": "2022-11-06T14:08:22.840Z"
   },
   {
    "duration": 12,
    "start_time": "2022-11-06T14:08:32.251Z"
   },
   {
    "duration": 12,
    "start_time": "2022-11-06T14:08:36.517Z"
   },
   {
    "duration": 9,
    "start_time": "2022-11-06T14:09:52.762Z"
   },
   {
    "duration": 16,
    "start_time": "2022-11-06T14:10:03.960Z"
   },
   {
    "duration": 17,
    "start_time": "2022-11-06T14:10:36.523Z"
   },
   {
    "duration": 10,
    "start_time": "2022-11-06T14:10:43.443Z"
   },
   {
    "duration": 52,
    "start_time": "2022-11-06T14:11:08.270Z"
   },
   {
    "duration": 11,
    "start_time": "2022-11-06T14:13:13.178Z"
   },
   {
    "duration": 13,
    "start_time": "2022-11-06T14:18:24.020Z"
   },
   {
    "duration": 367,
    "start_time": "2022-11-06T14:18:28.404Z"
   },
   {
    "duration": 303,
    "start_time": "2022-11-06T14:18:31.923Z"
   },
   {
    "duration": 213,
    "start_time": "2022-11-06T14:19:18.251Z"
   },
   {
    "duration": 216,
    "start_time": "2022-11-06T14:19:29.764Z"
   },
   {
    "duration": 49,
    "start_time": "2022-11-06T14:20:14.212Z"
   },
   {
    "duration": 320,
    "start_time": "2022-11-06T14:20:16.975Z"
   },
   {
    "duration": 186,
    "start_time": "2022-11-06T14:20:21.998Z"
   },
   {
    "duration": 216,
    "start_time": "2022-11-06T14:21:41.576Z"
   },
   {
    "duration": 17,
    "start_time": "2022-11-06T14:22:58.887Z"
   },
   {
    "duration": 389,
    "start_time": "2022-11-06T14:24:08.621Z"
   },
   {
    "duration": 327,
    "start_time": "2022-11-06T14:24:44.237Z"
   },
   {
    "duration": 53,
    "start_time": "2022-11-06T14:25:03.943Z"
   },
   {
    "duration": 210,
    "start_time": "2022-11-06T14:25:06.405Z"
   },
   {
    "duration": 276,
    "start_time": "2022-11-06T14:26:01.302Z"
   },
   {
    "duration": 345,
    "start_time": "2022-11-06T14:26:10.599Z"
   },
   {
    "duration": 321,
    "start_time": "2022-11-06T14:26:34.467Z"
   },
   {
    "duration": 330,
    "start_time": "2022-11-06T14:28:23.610Z"
   },
   {
    "duration": 341,
    "start_time": "2022-11-06T14:28:33.197Z"
   },
   {
    "duration": 713,
    "start_time": "2022-11-06T16:30:07.674Z"
   },
   {
    "duration": 3,
    "start_time": "2022-11-06T16:30:27.044Z"
   },
   {
    "duration": 49,
    "start_time": "2022-11-06T16:30:27.049Z"
   },
   {
    "duration": 3,
    "start_time": "2022-11-06T16:30:27.100Z"
   },
   {
    "duration": 15,
    "start_time": "2022-11-06T16:30:27.105Z"
   },
   {
    "duration": 23,
    "start_time": "2022-11-06T16:30:27.123Z"
   },
   {
    "duration": 265,
    "start_time": "2022-11-06T16:30:27.148Z"
   },
   {
    "duration": 66,
    "start_time": "2022-11-06T16:30:27.415Z"
   },
   {
    "duration": 28,
    "start_time": "2022-11-06T16:30:27.482Z"
   },
   {
    "duration": 7,
    "start_time": "2022-11-06T16:30:27.514Z"
   },
   {
    "duration": 6,
    "start_time": "2022-11-06T16:30:27.523Z"
   },
   {
    "duration": 8,
    "start_time": "2022-11-06T16:30:27.530Z"
   },
   {
    "duration": 6,
    "start_time": "2022-11-06T16:30:27.539Z"
   },
   {
    "duration": 21,
    "start_time": "2022-11-06T16:30:27.546Z"
   },
   {
    "duration": 9,
    "start_time": "2022-11-06T16:30:27.568Z"
   },
   {
    "duration": 11,
    "start_time": "2022-11-06T16:30:27.579Z"
   },
   {
    "duration": 291,
    "start_time": "2022-11-06T16:30:27.592Z"
   },
   {
    "duration": 210,
    "start_time": "2022-11-06T16:30:27.885Z"
   },
   {
    "duration": 215,
    "start_time": "2022-11-06T16:30:28.097Z"
   },
   {
    "duration": 427,
    "start_time": "2022-11-06T16:30:28.314Z"
   },
   {
    "duration": 228,
    "start_time": "2022-11-06T16:30:28.742Z"
   },
   {
    "duration": 329,
    "start_time": "2022-11-06T16:30:28.972Z"
   },
   {
    "duration": 11,
    "start_time": "2022-11-06T16:30:29.303Z"
   },
   {
    "duration": 110,
    "start_time": "2022-11-06T16:30:31.720Z"
   },
   {
    "duration": 51,
    "start_time": "2022-11-06T16:36:38.355Z"
   },
   {
    "duration": 142,
    "start_time": "2022-11-06T16:39:07.558Z"
   },
   {
    "duration": 111,
    "start_time": "2022-11-06T16:39:44.607Z"
   },
   {
    "duration": 132,
    "start_time": "2022-11-06T16:40:33.101Z"
   },
   {
    "duration": 135,
    "start_time": "2022-11-06T16:40:51.602Z"
   },
   {
    "duration": 5,
    "start_time": "2022-11-06T16:43:46.117Z"
   },
   {
    "duration": 114,
    "start_time": "2022-11-06T16:45:15.001Z"
   },
   {
    "duration": 5,
    "start_time": "2022-11-06T16:46:01.072Z"
   },
   {
    "duration": 3,
    "start_time": "2022-11-06T16:48:07.596Z"
   },
   {
    "duration": 10,
    "start_time": "2022-11-06T16:48:27.440Z"
   },
   {
    "duration": 3,
    "start_time": "2022-11-06T16:48:36.649Z"
   },
   {
    "duration": 38,
    "start_time": "2022-11-06T16:48:36.654Z"
   },
   {
    "duration": 4,
    "start_time": "2022-11-06T16:48:36.693Z"
   },
   {
    "duration": 14,
    "start_time": "2022-11-06T16:48:36.699Z"
   },
   {
    "duration": 17,
    "start_time": "2022-11-06T16:48:36.715Z"
   },
   {
    "duration": 200,
    "start_time": "2022-11-06T16:48:36.733Z"
   },
   {
    "duration": 60,
    "start_time": "2022-11-06T16:48:36.934Z"
   },
   {
    "duration": 28,
    "start_time": "2022-11-06T16:48:36.996Z"
   },
   {
    "duration": 6,
    "start_time": "2022-11-06T16:48:37.027Z"
   },
   {
    "duration": 5,
    "start_time": "2022-11-06T16:48:37.035Z"
   },
   {
    "duration": 5,
    "start_time": "2022-11-06T16:48:37.042Z"
   },
   {
    "duration": 9,
    "start_time": "2022-11-06T16:48:37.049Z"
   },
   {
    "duration": 13,
    "start_time": "2022-11-06T16:48:37.060Z"
   },
   {
    "duration": 10,
    "start_time": "2022-11-06T16:48:37.074Z"
   },
   {
    "duration": 17,
    "start_time": "2022-11-06T16:48:37.085Z"
   },
   {
    "duration": 344,
    "start_time": "2022-11-06T16:48:37.104Z"
   },
   {
    "duration": 245,
    "start_time": "2022-11-06T16:48:37.450Z"
   },
   {
    "duration": 271,
    "start_time": "2022-11-06T16:48:37.696Z"
   },
   {
    "duration": 309,
    "start_time": "2022-11-06T16:48:37.969Z"
   },
   {
    "duration": 206,
    "start_time": "2022-11-06T16:48:38.280Z"
   },
   {
    "duration": 315,
    "start_time": "2022-11-06T16:48:38.488Z"
   },
   {
    "duration": 12,
    "start_time": "2022-11-06T16:48:38.805Z"
   },
   {
    "duration": 135,
    "start_time": "2022-11-06T16:48:38.819Z"
   },
   {
    "duration": 4,
    "start_time": "2022-11-06T16:48:38.957Z"
   },
   {
    "duration": 5,
    "start_time": "2022-11-06T16:48:38.962Z"
   },
   {
    "duration": 143,
    "start_time": "2022-11-06T16:48:38.968Z"
   },
   {
    "duration": 5,
    "start_time": "2022-11-06T16:48:39.113Z"
   },
   {
    "duration": 138,
    "start_time": "2022-11-06T16:48:39.119Z"
   },
   {
    "duration": 233,
    "start_time": "2022-11-06T16:48:39.258Z"
   },
   {
    "duration": 171,
    "start_time": "2022-11-06T16:48:39.493Z"
   },
   {
    "duration": 10,
    "start_time": "2022-11-06T16:48:39.665Z"
   },
   {
    "duration": 15,
    "start_time": "2022-11-06T16:48:46.880Z"
   },
   {
    "duration": 15,
    "start_time": "2022-11-06T16:48:48.960Z"
   },
   {
    "duration": 59,
    "start_time": "2022-11-06T16:49:06.996Z"
   },
   {
    "duration": 13,
    "start_time": "2022-11-06T16:49:26.585Z"
   },
   {
    "duration": 9,
    "start_time": "2022-11-06T16:49:33.756Z"
   },
   {
    "duration": 715,
    "start_time": "2022-11-06T16:50:00.405Z"
   },
   {
    "duration": 1312,
    "start_time": "2022-11-06T16:50:02.284Z"
   },
   {
    "duration": 11,
    "start_time": "2022-11-06T16:50:19.809Z"
   },
   {
    "duration": 6,
    "start_time": "2022-11-06T16:50:22.647Z"
   },
   {
    "duration": 5,
    "start_time": "2022-11-06T16:50:24.377Z"
   },
   {
    "duration": 5,
    "start_time": "2022-11-06T16:50:38.153Z"
   },
   {
    "duration": 10,
    "start_time": "2022-11-06T16:50:53.528Z"
   },
   {
    "duration": 9,
    "start_time": "2022-11-06T16:51:05.210Z"
   },
   {
    "duration": 5,
    "start_time": "2022-11-06T16:51:13.400Z"
   },
   {
    "duration": 4,
    "start_time": "2022-11-06T16:51:16.151Z"
   },
   {
    "duration": 10,
    "start_time": "2022-11-06T16:51:33.973Z"
   },
   {
    "duration": 52,
    "start_time": "2022-11-06T16:52:36.192Z"
   },
   {
    "duration": 5,
    "start_time": "2022-11-06T16:53:42.976Z"
   },
   {
    "duration": 5,
    "start_time": "2022-11-06T16:53:50.359Z"
   },
   {
    "duration": 5,
    "start_time": "2022-11-06T16:54:01.726Z"
   },
   {
    "duration": 133,
    "start_time": "2022-11-06T16:56:00.015Z"
   },
   {
    "duration": 130,
    "start_time": "2022-11-06T16:56:10.380Z"
   },
   {
    "duration": 138,
    "start_time": "2022-11-06T16:56:16.482Z"
   },
   {
    "duration": 3,
    "start_time": "2022-11-06T16:57:23.760Z"
   },
   {
    "duration": 9,
    "start_time": "2022-11-06T16:57:41.418Z"
   },
   {
    "duration": 42,
    "start_time": "2022-11-06T16:58:32.687Z"
   },
   {
    "duration": 155,
    "start_time": "2022-11-07T00:29:14.789Z"
   },
   {
    "duration": 141,
    "start_time": "2022-11-07T00:29:35.869Z"
   },
   {
    "duration": 245,
    "start_time": "2022-11-07T00:30:10.852Z"
   },
   {
    "duration": 251,
    "start_time": "2022-11-07T00:30:15.921Z"
   },
   {
    "duration": 255,
    "start_time": "2022-11-07T00:30:23.139Z"
   },
   {
    "duration": 248,
    "start_time": "2022-11-07T00:30:38.814Z"
   },
   {
    "duration": 245,
    "start_time": "2022-11-07T00:30:46.694Z"
   },
   {
    "duration": 425,
    "start_time": "2022-11-07T00:31:03.065Z"
   },
   {
    "duration": 205,
    "start_time": "2022-11-07T00:32:31.944Z"
   },
   {
    "duration": 411,
    "start_time": "2022-11-07T00:32:52.902Z"
   },
   {
    "duration": 76,
    "start_time": "2022-11-07T00:35:38.946Z"
   },
   {
    "duration": 271,
    "start_time": "2022-11-07T00:35:49.628Z"
   },
   {
    "duration": 239,
    "start_time": "2022-11-07T00:36:31.342Z"
   },
   {
    "duration": 129,
    "start_time": "2022-11-07T00:36:51.308Z"
   },
   {
    "duration": 3,
    "start_time": "2022-11-07T00:38:44.372Z"
   },
   {
    "duration": 40,
    "start_time": "2022-11-07T00:38:44.377Z"
   },
   {
    "duration": 3,
    "start_time": "2022-11-07T00:38:44.418Z"
   },
   {
    "duration": 11,
    "start_time": "2022-11-07T00:38:44.422Z"
   },
   {
    "duration": 11,
    "start_time": "2022-11-07T00:38:44.435Z"
   },
   {
    "duration": 162,
    "start_time": "2022-11-07T00:38:44.447Z"
   },
   {
    "duration": 59,
    "start_time": "2022-11-07T00:38:44.610Z"
   },
   {
    "duration": 27,
    "start_time": "2022-11-07T00:38:44.671Z"
   },
   {
    "duration": 6,
    "start_time": "2022-11-07T00:38:44.700Z"
   },
   {
    "duration": 6,
    "start_time": "2022-11-07T00:38:44.708Z"
   },
   {
    "duration": 5,
    "start_time": "2022-11-07T00:38:44.716Z"
   },
   {
    "duration": 8,
    "start_time": "2022-11-07T00:38:44.722Z"
   },
   {
    "duration": 13,
    "start_time": "2022-11-07T00:38:44.732Z"
   },
   {
    "duration": 0,
    "start_time": "2022-11-07T00:38:44.747Z"
   },
   {
    "duration": 0,
    "start_time": "2022-11-07T00:38:44.748Z"
   },
   {
    "duration": 0,
    "start_time": "2022-11-07T00:38:44.749Z"
   },
   {
    "duration": 0,
    "start_time": "2022-11-07T00:38:44.750Z"
   },
   {
    "duration": 0,
    "start_time": "2022-11-07T00:38:44.751Z"
   },
   {
    "duration": 0,
    "start_time": "2022-11-07T00:38:44.752Z"
   },
   {
    "duration": 0,
    "start_time": "2022-11-07T00:38:44.777Z"
   },
   {
    "duration": 0,
    "start_time": "2022-11-07T00:38:44.778Z"
   },
   {
    "duration": 0,
    "start_time": "2022-11-07T00:38:44.779Z"
   },
   {
    "duration": 0,
    "start_time": "2022-11-07T00:38:44.780Z"
   },
   {
    "duration": 0,
    "start_time": "2022-11-07T00:38:44.781Z"
   },
   {
    "duration": 0,
    "start_time": "2022-11-07T00:38:44.782Z"
   },
   {
    "duration": 0,
    "start_time": "2022-11-07T00:38:44.783Z"
   },
   {
    "duration": 0,
    "start_time": "2022-11-07T00:38:44.784Z"
   },
   {
    "duration": 0,
    "start_time": "2022-11-07T00:38:44.785Z"
   },
   {
    "duration": 0,
    "start_time": "2022-11-07T00:38:44.786Z"
   },
   {
    "duration": 0,
    "start_time": "2022-11-07T00:38:44.787Z"
   },
   {
    "duration": 0,
    "start_time": "2022-11-07T00:38:44.788Z"
   },
   {
    "duration": 0,
    "start_time": "2022-11-07T00:38:44.789Z"
   },
   {
    "duration": 0,
    "start_time": "2022-11-07T00:38:44.790Z"
   },
   {
    "duration": 0,
    "start_time": "2022-11-07T00:38:44.791Z"
   },
   {
    "duration": 0,
    "start_time": "2022-11-07T00:38:44.793Z"
   },
   {
    "duration": 1013,
    "start_time": "2022-11-07T00:39:40.988Z"
   },
   {
    "duration": 37,
    "start_time": "2022-11-07T00:39:42.003Z"
   },
   {
    "duration": 3,
    "start_time": "2022-11-07T00:39:42.042Z"
   },
   {
    "duration": 14,
    "start_time": "2022-11-07T00:39:42.046Z"
   },
   {
    "duration": 10,
    "start_time": "2022-11-07T00:39:42.061Z"
   },
   {
    "duration": 171,
    "start_time": "2022-11-07T00:39:42.073Z"
   },
   {
    "duration": 61,
    "start_time": "2022-11-07T00:39:42.246Z"
   },
   {
    "duration": 26,
    "start_time": "2022-11-07T00:39:42.309Z"
   },
   {
    "duration": 5,
    "start_time": "2022-11-07T00:39:42.337Z"
   },
   {
    "duration": 8,
    "start_time": "2022-11-07T00:39:42.344Z"
   },
   {
    "duration": 8,
    "start_time": "2022-11-07T00:39:42.353Z"
   },
   {
    "duration": 8,
    "start_time": "2022-11-07T00:39:42.362Z"
   },
   {
    "duration": 15,
    "start_time": "2022-11-07T00:39:42.371Z"
   },
   {
    "duration": 7,
    "start_time": "2022-11-07T00:39:42.387Z"
   },
   {
    "duration": 7,
    "start_time": "2022-11-07T00:39:42.396Z"
   },
   {
    "duration": 284,
    "start_time": "2022-11-07T00:39:42.405Z"
   },
   {
    "duration": 256,
    "start_time": "2022-11-07T00:39:42.690Z"
   },
   {
    "duration": 168,
    "start_time": "2022-11-07T00:39:42.948Z"
   },
   {
    "duration": 268,
    "start_time": "2022-11-07T00:39:43.119Z"
   },
   {
    "duration": 188,
    "start_time": "2022-11-07T00:39:43.389Z"
   },
   {
    "duration": 304,
    "start_time": "2022-11-07T00:39:43.579Z"
   },
   {
    "duration": 12,
    "start_time": "2022-11-07T00:39:43.884Z"
   },
   {
    "duration": 122,
    "start_time": "2022-11-07T00:39:43.897Z"
   },
   {
    "duration": 5,
    "start_time": "2022-11-07T00:39:44.021Z"
   },
   {
    "duration": 7,
    "start_time": "2022-11-07T00:39:44.027Z"
   },
   {
    "duration": 123,
    "start_time": "2022-11-07T00:39:44.035Z"
   },
   {
    "duration": 4,
    "start_time": "2022-11-07T00:39:44.160Z"
   },
   {
    "duration": 14,
    "start_time": "2022-11-07T00:39:44.167Z"
   },
   {
    "duration": 178,
    "start_time": "2022-11-07T00:39:44.182Z"
   },
   {
    "duration": 140,
    "start_time": "2022-11-07T00:39:44.362Z"
   },
   {
    "duration": 9,
    "start_time": "2022-11-07T00:39:44.503Z"
   },
   {
    "duration": 8,
    "start_time": "2022-11-07T00:39:44.513Z"
   },
   {
    "duration": 1194,
    "start_time": "2022-11-07T00:39:44.523Z"
   },
   {
    "duration": 0,
    "start_time": "2022-11-07T00:39:45.719Z"
   },
   {
    "duration": 0,
    "start_time": "2022-11-07T00:39:45.720Z"
   },
   {
    "duration": 7,
    "start_time": "2022-11-07T00:40:47.284Z"
   },
   {
    "duration": 17,
    "start_time": "2022-11-07T00:40:52.117Z"
   },
   {
    "duration": 12,
    "start_time": "2022-11-07T00:41:00.751Z"
   },
   {
    "duration": 132,
    "start_time": "2022-11-07T00:43:59.882Z"
   },
   {
    "duration": 169,
    "start_time": "2022-11-07T00:44:34.400Z"
   },
   {
    "duration": 150,
    "start_time": "2022-11-07T00:44:45.803Z"
   },
   {
    "duration": 141,
    "start_time": "2022-11-07T00:45:07.406Z"
   },
   {
    "duration": 136,
    "start_time": "2022-11-07T00:45:13.727Z"
   },
   {
    "duration": 131,
    "start_time": "2022-11-07T00:45:18.303Z"
   },
   {
    "duration": 134,
    "start_time": "2022-11-07T00:45:26.202Z"
   },
   {
    "duration": 150,
    "start_time": "2022-11-07T00:45:41.472Z"
   },
   {
    "duration": 3,
    "start_time": "2022-11-07T00:47:03.532Z"
   },
   {
    "duration": 39,
    "start_time": "2022-11-07T00:47:03.536Z"
   },
   {
    "duration": 3,
    "start_time": "2022-11-07T00:47:03.576Z"
   },
   {
    "duration": 14,
    "start_time": "2022-11-07T00:47:03.580Z"
   },
   {
    "duration": 10,
    "start_time": "2022-11-07T00:47:03.595Z"
   },
   {
    "duration": 199,
    "start_time": "2022-11-07T00:47:03.607Z"
   },
   {
    "duration": 58,
    "start_time": "2022-11-07T00:47:03.807Z"
   },
   {
    "duration": 26,
    "start_time": "2022-11-07T00:47:03.867Z"
   },
   {
    "duration": 5,
    "start_time": "2022-11-07T00:47:03.895Z"
   },
   {
    "duration": 4,
    "start_time": "2022-11-07T00:47:03.902Z"
   },
   {
    "duration": 6,
    "start_time": "2022-11-07T00:47:03.908Z"
   },
   {
    "duration": 6,
    "start_time": "2022-11-07T00:47:03.915Z"
   },
   {
    "duration": 12,
    "start_time": "2022-11-07T00:47:03.922Z"
   },
   {
    "duration": 6,
    "start_time": "2022-11-07T00:47:03.935Z"
   },
   {
    "duration": 8,
    "start_time": "2022-11-07T00:47:03.943Z"
   },
   {
    "duration": 270,
    "start_time": "2022-11-07T00:47:03.952Z"
   },
   {
    "duration": 169,
    "start_time": "2022-11-07T00:47:04.223Z"
   },
   {
    "duration": 165,
    "start_time": "2022-11-07T00:47:04.393Z"
   },
   {
    "duration": 304,
    "start_time": "2022-11-07T00:47:04.559Z"
   },
   {
    "duration": 181,
    "start_time": "2022-11-07T00:47:04.865Z"
   },
   {
    "duration": 332,
    "start_time": "2022-11-07T00:47:05.047Z"
   },
   {
    "duration": 10,
    "start_time": "2022-11-07T00:47:05.380Z"
   },
   {
    "duration": 114,
    "start_time": "2022-11-07T00:47:05.392Z"
   },
   {
    "duration": 4,
    "start_time": "2022-11-07T00:47:05.507Z"
   },
   {
    "duration": 13,
    "start_time": "2022-11-07T00:47:05.513Z"
   },
   {
    "duration": 124,
    "start_time": "2022-11-07T00:47:05.527Z"
   },
   {
    "duration": 5,
    "start_time": "2022-11-07T00:47:05.653Z"
   },
   {
    "duration": 14,
    "start_time": "2022-11-07T00:47:05.660Z"
   },
   {
    "duration": 123,
    "start_time": "2022-11-07T00:47:05.677Z"
   },
   {
    "duration": 156,
    "start_time": "2022-11-07T00:47:05.802Z"
   },
   {
    "duration": 21,
    "start_time": "2022-11-07T00:47:05.960Z"
   },
   {
    "duration": 8,
    "start_time": "2022-11-07T00:47:05.983Z"
   },
   {
    "duration": 10,
    "start_time": "2022-11-07T00:47:05.993Z"
   },
   {
    "duration": 20,
    "start_time": "2022-11-07T00:47:06.004Z"
   },
   {
    "duration": 13,
    "start_time": "2022-11-07T00:47:06.025Z"
   },
   {
    "duration": 147,
    "start_time": "2022-11-07T00:52:59.650Z"
   },
   {
    "duration": 10,
    "start_time": "2022-11-07T00:53:04.955Z"
   },
   {
    "duration": 20,
    "start_time": "2022-11-07T00:53:14.553Z"
   },
   {
    "duration": 14,
    "start_time": "2022-11-07T00:53:41.582Z"
   },
   {
    "duration": 148,
    "start_time": "2022-11-07T01:02:44.614Z"
   },
   {
    "duration": 10,
    "start_time": "2022-11-07T01:03:36.408Z"
   },
   {
    "duration": 18,
    "start_time": "2022-11-07T01:08:59.350Z"
   },
   {
    "duration": 14,
    "start_time": "2022-11-07T01:11:46.725Z"
   },
   {
    "duration": 1006,
    "start_time": "2022-11-07T01:20:22.094Z"
   },
   {
    "duration": 37,
    "start_time": "2022-11-07T01:20:23.101Z"
   },
   {
    "duration": 3,
    "start_time": "2022-11-07T01:20:23.139Z"
   },
   {
    "duration": 14,
    "start_time": "2022-11-07T01:20:23.144Z"
   },
   {
    "duration": 10,
    "start_time": "2022-11-07T01:20:23.160Z"
   },
   {
    "duration": 172,
    "start_time": "2022-11-07T01:20:23.172Z"
   },
   {
    "duration": 59,
    "start_time": "2022-11-07T01:20:23.346Z"
   },
   {
    "duration": 27,
    "start_time": "2022-11-07T01:20:23.407Z"
   },
   {
    "duration": 7,
    "start_time": "2022-11-07T01:20:23.435Z"
   },
   {
    "duration": 4,
    "start_time": "2022-11-07T01:20:23.445Z"
   },
   {
    "duration": 5,
    "start_time": "2022-11-07T01:20:23.450Z"
   },
   {
    "duration": 4,
    "start_time": "2022-11-07T01:20:23.457Z"
   },
   {
    "duration": 10,
    "start_time": "2022-11-07T01:20:23.478Z"
   },
   {
    "duration": 7,
    "start_time": "2022-11-07T01:20:23.490Z"
   },
   {
    "duration": 8,
    "start_time": "2022-11-07T01:20:23.499Z"
   },
   {
    "duration": 277,
    "start_time": "2022-11-07T01:20:23.508Z"
   },
   {
    "duration": 244,
    "start_time": "2022-11-07T01:20:23.787Z"
   },
   {
    "duration": 168,
    "start_time": "2022-11-07T01:20:24.032Z"
   },
   {
    "duration": 275,
    "start_time": "2022-11-07T01:20:24.202Z"
   },
   {
    "duration": 186,
    "start_time": "2022-11-07T01:20:24.478Z"
   },
   {
    "duration": 314,
    "start_time": "2022-11-07T01:20:24.665Z"
   },
   {
    "duration": 13,
    "start_time": "2022-11-07T01:20:24.980Z"
   },
   {
    "duration": 126,
    "start_time": "2022-11-07T01:20:24.994Z"
   },
   {
    "duration": 5,
    "start_time": "2022-11-07T01:20:25.121Z"
   },
   {
    "duration": 7,
    "start_time": "2022-11-07T01:20:25.127Z"
   },
   {
    "duration": 122,
    "start_time": "2022-11-07T01:20:25.135Z"
   },
   {
    "duration": 5,
    "start_time": "2022-11-07T01:20:25.258Z"
   },
   {
    "duration": 4,
    "start_time": "2022-11-07T01:20:25.276Z"
   },
   {
    "duration": 177,
    "start_time": "2022-11-07T01:20:25.283Z"
   },
   {
    "duration": 134,
    "start_time": "2022-11-07T01:20:25.462Z"
   },
   {
    "duration": 9,
    "start_time": "2022-11-07T01:20:25.598Z"
   },
   {
    "duration": 8,
    "start_time": "2022-11-07T01:20:25.608Z"
   },
   {
    "duration": 7,
    "start_time": "2022-11-07T01:20:25.618Z"
   },
   {
    "duration": 23,
    "start_time": "2022-11-07T01:20:25.626Z"
   },
   {
    "duration": 36,
    "start_time": "2022-11-07T01:20:25.651Z"
   },
   {
    "duration": 56,
    "start_time": "2022-11-07T09:26:18.008Z"
   },
   {
    "duration": 1187,
    "start_time": "2022-11-07T09:32:18.375Z"
   },
   {
    "duration": 97,
    "start_time": "2022-11-07T09:32:19.564Z"
   },
   {
    "duration": 3,
    "start_time": "2022-11-07T09:32:19.662Z"
   },
   {
    "duration": 25,
    "start_time": "2022-11-07T09:32:19.667Z"
   },
   {
    "duration": 20,
    "start_time": "2022-11-07T09:32:19.693Z"
   },
   {
    "duration": 216,
    "start_time": "2022-11-07T09:32:19.714Z"
   },
   {
    "duration": 107,
    "start_time": "2022-11-07T09:32:19.932Z"
   },
   {
    "duration": 89,
    "start_time": "2022-11-07T09:32:20.041Z"
   },
   {
    "duration": 7,
    "start_time": "2022-11-07T09:32:20.132Z"
   },
   {
    "duration": 23,
    "start_time": "2022-11-07T09:32:20.142Z"
   },
   {
    "duration": 16,
    "start_time": "2022-11-07T09:32:20.167Z"
   },
   {
    "duration": 34,
    "start_time": "2022-11-07T09:32:20.185Z"
   },
   {
    "duration": 28,
    "start_time": "2022-11-07T09:32:20.221Z"
   },
   {
    "duration": 40,
    "start_time": "2022-11-07T09:32:20.251Z"
   },
   {
    "duration": 38,
    "start_time": "2022-11-07T09:32:20.292Z"
   },
   {
    "duration": 282,
    "start_time": "2022-11-07T09:32:20.331Z"
   },
   {
    "duration": 289,
    "start_time": "2022-11-07T09:32:20.615Z"
   },
   {
    "duration": 193,
    "start_time": "2022-11-07T09:32:20.906Z"
   },
   {
    "duration": 358,
    "start_time": "2022-11-07T09:32:21.101Z"
   },
   {
    "duration": 208,
    "start_time": "2022-11-07T09:32:21.461Z"
   },
   {
    "duration": 328,
    "start_time": "2022-11-07T09:32:21.671Z"
   },
   {
    "duration": 16,
    "start_time": "2022-11-07T09:32:22.001Z"
   },
   {
    "duration": 140,
    "start_time": "2022-11-07T09:32:22.019Z"
   },
   {
    "duration": 5,
    "start_time": "2022-11-07T09:32:22.161Z"
   },
   {
    "duration": 12,
    "start_time": "2022-11-07T09:32:22.167Z"
   },
   {
    "duration": 150,
    "start_time": "2022-11-07T09:32:22.180Z"
   },
   {
    "duration": 4,
    "start_time": "2022-11-07T09:32:22.332Z"
   },
   {
    "duration": 4,
    "start_time": "2022-11-07T09:32:22.339Z"
   },
   {
    "duration": 207,
    "start_time": "2022-11-07T09:32:22.344Z"
   },
   {
    "duration": 145,
    "start_time": "2022-11-07T09:32:22.553Z"
   },
   {
    "duration": 14,
    "start_time": "2022-11-07T09:32:22.700Z"
   },
   {
    "duration": 31,
    "start_time": "2022-11-07T09:32:22.717Z"
   },
   {
    "duration": 24,
    "start_time": "2022-11-07T09:32:22.750Z"
   },
   {
    "duration": 30,
    "start_time": "2022-11-07T09:32:22.776Z"
   },
   {
    "duration": 19,
    "start_time": "2022-11-07T09:32:22.808Z"
   },
   {
    "duration": 1120,
    "start_time": "2022-11-07T09:35:12.324Z"
   },
   {
    "duration": 36,
    "start_time": "2022-11-07T09:35:13.446Z"
   },
   {
    "duration": 4,
    "start_time": "2022-11-07T09:35:13.484Z"
   },
   {
    "duration": 11,
    "start_time": "2022-11-07T09:35:13.491Z"
   },
   {
    "duration": 13,
    "start_time": "2022-11-07T09:35:13.504Z"
   },
   {
    "duration": 212,
    "start_time": "2022-11-07T09:35:13.519Z"
   },
   {
    "duration": 58,
    "start_time": "2022-11-07T09:35:13.733Z"
   },
   {
    "duration": 47,
    "start_time": "2022-11-07T09:35:13.793Z"
   },
   {
    "duration": 7,
    "start_time": "2022-11-07T09:35:13.841Z"
   },
   {
    "duration": 7,
    "start_time": "2022-11-07T09:35:13.851Z"
   },
   {
    "duration": 7,
    "start_time": "2022-11-07T09:35:13.859Z"
   },
   {
    "duration": 6,
    "start_time": "2022-11-07T09:35:13.868Z"
   },
   {
    "duration": 12,
    "start_time": "2022-11-07T09:35:13.876Z"
   },
   {
    "duration": 22,
    "start_time": "2022-11-07T09:35:13.890Z"
   },
   {
    "duration": 20,
    "start_time": "2022-11-07T09:35:13.915Z"
   },
   {
    "duration": 290,
    "start_time": "2022-11-07T09:35:13.937Z"
   },
   {
    "duration": 291,
    "start_time": "2022-11-07T09:35:14.229Z"
   },
   {
    "duration": 205,
    "start_time": "2022-11-07T09:35:14.522Z"
   },
   {
    "duration": 298,
    "start_time": "2022-11-07T09:35:14.730Z"
   },
   {
    "duration": 218,
    "start_time": "2022-11-07T09:35:15.030Z"
   },
   {
    "duration": 315,
    "start_time": "2022-11-07T09:35:15.250Z"
   },
   {
    "duration": 11,
    "start_time": "2022-11-07T09:35:15.567Z"
   },
   {
    "duration": 162,
    "start_time": "2022-11-07T09:35:15.580Z"
   },
   {
    "duration": 5,
    "start_time": "2022-11-07T09:35:15.744Z"
   },
   {
    "duration": 9,
    "start_time": "2022-11-07T09:35:15.750Z"
   },
   {
    "duration": 148,
    "start_time": "2022-11-07T09:35:15.760Z"
   },
   {
    "duration": 5,
    "start_time": "2022-11-07T09:35:15.910Z"
   },
   {
    "duration": 20,
    "start_time": "2022-11-07T09:35:15.918Z"
   },
   {
    "duration": 207,
    "start_time": "2022-11-07T09:35:15.940Z"
   },
   {
    "duration": 185,
    "start_time": "2022-11-07T09:35:16.149Z"
   },
   {
    "duration": 10,
    "start_time": "2022-11-07T09:35:16.336Z"
   },
   {
    "duration": 18,
    "start_time": "2022-11-07T09:35:16.347Z"
   },
   {
    "duration": 23,
    "start_time": "2022-11-07T09:35:16.366Z"
   },
   {
    "duration": 54,
    "start_time": "2022-11-07T09:35:16.391Z"
   },
   {
    "duration": 13,
    "start_time": "2022-11-07T09:35:16.447Z"
   }
  ],
  "kernelspec": {
   "display_name": "Python 3 (ipykernel)",
   "language": "python",
   "name": "python3"
  },
  "language_info": {
   "codemirror_mode": {
    "name": "ipython",
    "version": 3
   },
   "file_extension": ".py",
   "mimetype": "text/x-python",
   "name": "python",
   "nbconvert_exporter": "python",
   "pygments_lexer": "ipython3",
   "version": "3.9.12"
  },
  "toc": {
   "base_numbering": 1,
   "nav_menu": {
    "height": "83px",
    "width": "388px"
   },
   "number_sections": true,
   "sideBar": true,
   "skip_h1_title": true,
   "title_cell": "Table of Contents",
   "title_sidebar": "Contents",
   "toc_cell": false,
   "toc_position": {
    "height": "calc(100% - 180px)",
    "left": "10px",
    "top": "150px",
    "width": "385.594px"
   },
   "toc_section_display": true,
   "toc_window_display": true
  }
 },
 "nbformat": 4,
 "nbformat_minor": 2
}
